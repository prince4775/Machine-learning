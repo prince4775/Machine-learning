{
 "cells": [
  {
   "cell_type": "code",
   "execution_count": 15,
   "id": "9084d940-81d2-4e1d-b1fc-80cec011a723",
   "metadata": {},
   "outputs": [],
   "source": [
    "import os, shutil\n",
    "original_dataset_dir = r'E:\\Dataset\\plantvillage dataset\\color'\n",
    "base_dir = r'E:\\Dataset\\lab11 task'"
   ]
  },
  {
   "cell_type": "code",
   "execution_count": 16,
   "id": "fbd16094-812a-46d1-abee-07ff1c49e8b3",
   "metadata": {},
   "outputs": [
    {
     "ename": "FileExistsError",
     "evalue": "[WinError 183] Cannot create a file when that file already exists: 'E:\\\\Dataset\\\\lab11 task'",
     "output_type": "error",
     "traceback": [
      "\u001b[1;31m---------------------------------------------------------------------------\u001b[0m",
      "\u001b[1;31mFileExistsError\u001b[0m                           Traceback (most recent call last)",
      "Input \u001b[1;32mIn [16]\u001b[0m, in \u001b[0;36m<cell line: 1>\u001b[1;34m()\u001b[0m\n\u001b[1;32m----> 1\u001b[0m \u001b[43mos\u001b[49m\u001b[38;5;241;43m.\u001b[39;49m\u001b[43mmkdir\u001b[49m\u001b[43m(\u001b[49m\u001b[43mbase_dir\u001b[49m\u001b[43m)\u001b[49m\n\u001b[0;32m      2\u001b[0m train_dir \u001b[38;5;241m=\u001b[39m os\u001b[38;5;241m.\u001b[39mpath\u001b[38;5;241m.\u001b[39mjoin(base_dir, \u001b[38;5;124m'\u001b[39m\u001b[38;5;124mtrain\u001b[39m\u001b[38;5;124m'\u001b[39m)\n\u001b[0;32m      3\u001b[0m os\u001b[38;5;241m.\u001b[39mmkdir(train_dir)\n",
      "\u001b[1;31mFileExistsError\u001b[0m: [WinError 183] Cannot create a file when that file already exists: 'E:\\\\Dataset\\\\lab11 task'"
     ]
    }
   ],
   "source": [
    "os.mkdir(base_dir)\n",
    "train_dir = os.path.join(base_dir, 'train')\n",
    "os.mkdir(train_dir)\n",
    "validation_dir = os.path.join(base_dir, 'validation')\n",
    "os.mkdir(validation_dir)\n",
    "test_dir = os.path.join(base_dir, 'test')\n",
    "os.mkdir(test_dir)"
   ]
  },
  {
   "cell_type": "code",
   "execution_count": 17,
   "id": "213a0cfd-38ff-4331-b2d3-7cfe97ec3eb6",
   "metadata": {},
   "outputs": [],
   "source": [
    "\n",
    "train_Cercospora_dir = os.path.join(train_dir, 'Cercospora')\n",
    "os.mkdir(train_Cercospora_dir)\n",
    "\n",
    "train_northern_leaf_blight_dir = os.path.join(train_dir, 'northern_leaf_blight')\n",
    "os.mkdir(train_northern_leaf_blight_dir)\n",
    "\n",
    "\n",
    "validation_Cercospora_dir = os.path.join(validation_dir, 'Cercospora')\n",
    "os.mkdir(validation_Cercospora_dir)\n",
    "\n",
    "validation_northern_leaf_blight_dir = os.path.join(validation_dir, 'northern_leaf_blight')\n",
    "os.mkdir(validation_northern_leaf_blight_dir)\n",
    "\n",
    "\n",
    "test_Cercospora_dir = os.path.join(test_dir, 'Cercospora')\n",
    "os.mkdir(test_Cercospora_dir)\n",
    "\n",
    "test_northern_leaf_blight_dir = os.path.join(test_dir, 'northern_leaf_blight')\n",
    "os.mkdir(test_northern_leaf_blight_dir)"
   ]
  },
  {
   "cell_type": "code",
   "execution_count": 18,
   "id": "d8a8e549-fd5f-4cd0-9dc2-6d1012b97fda",
   "metadata": {},
   "outputs": [],
   "source": [
    "\n",
    "\n",
    "src_Cercospora_path = os.path.join(original_dataset_dir, 'Corn_(maize)___Cercospora_leaf_spot Gray_leaf_spot')\n",
    "src_list = os.listdir(src_Cercospora_path)\n",
    "fnames = ['Cercospora.{}.jpg'.format(i) for i in range(359)]\n",
    "for i in range(359):\n",
    "    src = os.path.join(src_Cercospora_path, src_list[i])\n",
    "    dst = os.path.join(train_Cercospora_dir, fnames[i])\n",
    "    shutil.copyfile(src, dst)\n",
    "src_Northern_Leaf_Blight_path = os.path.join(original_dataset_dir, 'Corn_(maize)___Northern_Leaf_Blight')\n",
    "src_list = os.listdir(src_Northern_Leaf_Blight_path)\n",
    "fnames = ['Northern_Leaf_Blight.{}.jpg'.format(i) for i in range(689)]\n",
    "for i in range(689):\n",
    "    src = os.path.join(src_Northern_Leaf_Blight_path, src_list[i])\n",
    "    dst = os.path.join(train_northern_leaf_blight_dir, fnames[i])\n",
    "    shutil.copyfile(src, dst)"
   ]
  },
  {
   "cell_type": "code",
   "execution_count": 19,
   "id": "b64f27a5-d1fc-4b54-a072-b782ac45cb7a",
   "metadata": {},
   "outputs": [],
   "source": [
    "\n",
    "\n",
    "src_Cercospora_path = os.path.join(original_dataset_dir, 'Corn_(maize)___Cercospora_leaf_spot Gray_leaf_spot')\n",
    "src_list = os.listdir(src_Cercospora_path)\n",
    "fnames = ['Cercospora.{}.jpg'.format(i) for i in range(103)]\n",
    "for i in range(359,462):\n",
    "    src = os.path.join(src_Cercospora_path, src_list[i])\n",
    "    dst = os.path.join(validation_Cercospora_dir, fnames[i-359])\n",
    "    shutil.copyfile(src, dst)\n",
    "\n",
    "\n",
    "src_Northern_Leaf_Blight_path = os.path.join(original_dataset_dir, 'Corn_(maize)___Northern_Leaf_Blight')\n",
    "src_list = os.listdir(src_Northern_Leaf_Blight_path)\n",
    "fnames = ['Northern_Leaf_Blight.{}.jpg'.format(i) for i in range(197)]\n",
    "for i in range(689,886):\n",
    "    src = os.path.join(src_Northern_Leaf_Blight_path, src_list[i])\n",
    "    dst = os.path.join(validation_northern_leaf_blight_dir, fnames[i-689])\n",
    "    shutil.copyfile(src, dst)"
   ]
  },
  {
   "cell_type": "markdown",
   "id": "c9bcc269-ddd4-45f5-8552-0c16c6b4edaf",
   "metadata": {},
   "source": [
    "# Test"
   ]
  },
  {
   "cell_type": "code",
   "execution_count": 20,
   "id": "b1e4f44a-08c7-4557-a132-a51881f701e4",
   "metadata": {},
   "outputs": [],
   "source": [
    "\n",
    "\n",
    "src_Cercospora_path = os.path.join(original_dataset_dir, 'Corn_(maize)___Cercospora_leaf_spot Gray_leaf_spot')\n",
    "src_list = os.listdir(src_Cercospora_path)\n",
    "fnames = ['Cercospora.{}.jpg'.format(i) for i in range(51)]\n",
    "for i in range(462,513):\n",
    "    src = os.path.join(src_Cercospora_path, src_list[i])\n",
    "    dst = os.path.join(test_Cercospora_dir, fnames[i-462])\n",
    "    shutil.copyfile(src, dst)\n",
    "\n",
    "\n",
    "\n",
    "src_Northern_Leaf_Blight_path = os.path.join(original_dataset_dir, 'Corn_(maize)___Northern_Leaf_Blight')\n",
    "src_list = os.listdir(src_Northern_Leaf_Blight_path)\n",
    "fnames = ['Northern_Leaf_Blight.{}.jpg'.format(i) for i in range(99)]\n",
    "for i in range(886,985):\n",
    "    src = os.path.join(src_Northern_Leaf_Blight_path, src_list[i])\n",
    "    dst = os.path.join(test_northern_leaf_blight_dir, fnames[i-886])\n",
    "    shutil.copyfile(src, dst)"
   ]
  },
  {
   "cell_type": "code",
   "execution_count": null,
   "id": "4df65132",
   "metadata": {},
   "outputs": [],
   "source": []
  }
 ],
 "metadata": {
  "kernelspec": {
   "display_name": "Python 3 (ipykernel)",
   "language": "python",
   "name": "python3"
  },
  "language_info": {
   "codemirror_mode": {
    "name": "ipython",
    "version": 3
   },
   "file_extension": ".py",
   "mimetype": "text/x-python",
   "name": "python",
   "nbconvert_exporter": "python",
   "pygments_lexer": "ipython3",
   "version": "3.9.12"
  }
 },
 "nbformat": 4,
 "nbformat_minor": 5
}
