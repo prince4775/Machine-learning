{
 "cells": [
  {
   "cell_type": "markdown",
   "id": "98051d80",
   "metadata": {},
   "source": [
    "# Operators\n"
   ]
  },
  {
   "cell_type": "markdown",
   "id": "bd8d91a3",
   "metadata": {},
   "source": [
    "# Arthematic operators"
   ]
  },
  {
   "cell_type": "code",
   "execution_count": 17,
   "id": "32856342",
   "metadata": {},
   "outputs": [
    {
     "name": "stdin",
     "output_type": "stream",
     "text": [
      "enter the first number  2\n",
      "enter the second number 4\n"
     ]
    },
    {
     "name": "stdout",
     "output_type": "stream",
     "text": [
      "addition of two number 6\n",
      "subtraction of two number -2\n",
      "division of two number 0.5\n",
      "multiplication of two number 8\n",
      "reminder of two number 2\n",
      "a power b 16\n",
      "quotient of two number 0\n"
     ]
    }
   ],
   "source": [
    "#Example 1\n",
    "a=int(input(\"enter the first number \"))\n",
    "\n",
    "b=input(\"enter the second number\")\n",
    "b=int(b)\n",
    "print(f\"addition of two number {a+b}\")\n",
    "print(f\"subtraction of two number {a-b}\")\n",
    "print(f\"division of two number {a/b}\")\n",
    "print(f\"multiplication of two number {a*b}\")\n",
    "\n",
    "print(f\"reminder of two number {a%b}\")\n",
    "print(f\"a power b {a**b}\")\n",
    "print(f\"quotient of two number {a//b}\")"
   ]
  },
  {
   "cell_type": "code",
   "execution_count": 2,
   "id": "86d89d90",
   "metadata": {},
   "outputs": [
    {
     "name": "stdout",
     "output_type": "stream",
     "text": [
      "enter the first number 3\n",
      "enter the second number4\n",
      "addition of two number 7\n",
      "subtraction of two number -1\n",
      "division of two number 0.75\n",
      "multiplication of two number 12\n",
      "reminder of two number 3\n",
      "a power b 81\n",
      "quotient of two number 0\n"
     ]
    }
   ],
   "source": [
    "#Example 2\n",
    "a=input(\"enter the first number \")\n",
    "a=int(a)\n",
    "b=input(\"enter the second number\")\n",
    "b=int(b)\n",
    "print(f\"addition of two number {a+b}\")\n",
    "print(f\"subtraction of two number {a-b}\")\n",
    "print(f\"division of two number {a/b}\")\n",
    "print(f\"multiplication of two number {a*b}\")\n",
    "print(f\"reminder of two number {a%b}\")\n",
    "print(f\"a power b {a**b}\")\n",
    "print(f\"quotient of two number {a//b}\")"
   ]
  },
  {
   "cell_type": "code",
   "execution_count": 3,
   "id": "d625639d",
   "metadata": {},
   "outputs": [
    {
     "name": "stdout",
     "output_type": "stream",
     "text": [
      "enter the first number 2\n",
      "enter the second number3\n",
      "addition of two number 5\n",
      "subtraction of two number -1\n",
      "division of two number 0.6666666666666666\n",
      "multiplication of two number 6\n",
      "reminder of two number 2\n",
      "a power b 8\n",
      "quotient of two number 0\n"
     ]
    }
   ],
   "source": [
    "#Example 3\n",
    "a=input(\"enter the first number \")\n",
    "a=int(a)\n",
    "b=input(\"enter the second number\")\n",
    "b=int(b)\n",
    "print(f\"addition of two number {a+b}\")\n",
    "print(f\"subtraction of two number {a-b}\")\n",
    "print(f\"division of two number {a/b}\")\n",
    "print(f\"multiplication of two number {a*b}\")\n",
    "print(f\"reminder of two number {a%b}\")\n",
    "print(f\"a power b {a**b}\")\n",
    "print(f\"quotient of two number {a//b}\")"
   ]
  },
  {
   "cell_type": "markdown",
   "id": "493eea5a",
   "metadata": {},
   "source": [
    "# assingment operators"
   ]
  },
  {
   "cell_type": "code",
   "execution_count": 8,
   "id": "8c26a43d",
   "metadata": {},
   "outputs": [
    {
     "name": "stdout",
     "output_type": "stream",
     "text": [
      "addition of two number assign to c 4\n",
      "subtraction of two number assign to d 0\n",
      "multiplication of two number assign to e 4\n",
      "division  of two number assign to f 1.0\n",
      "reminder of two number assign to g 0\n",
      "power of two number assign to h 4\n",
      "quoteint of two number assign to i 1\n"
     ]
    }
   ],
   "source": [
    "#Example 1\n",
    "Q=3\n",
    "c=a+b\n",
    "d=a-b\n",
    "e=a*b\n",
    "f=a/b\n",
    "g=a%b\n",
    "h=a**b\n",
    "i=a//b\n",
    "print(f\"addition of two number assign to c {c}\")\n",
    "print(f\"subtraction of two number assign to d {d}\")\n",
    "print(f\"multiplication of two number assign to e {e}\")\n",
    "print(f\"division  of two number assign to f {f}\")\n",
    "print(f\"reminder of two number assign to g {g}\")\n",
    "print(f\"power of two number assign to h {h}\")\n",
    "print(f\"quoteint of two number assign to i {i}\")"
   ]
  },
  {
   "cell_type": "code",
   "execution_count": 5,
   "id": "e8a9ad2c",
   "metadata": {},
   "outputs": [
    {
     "name": "stdout",
     "output_type": "stream",
     "text": [
      "enter the number2\n",
      "increment in the i 0\n",
      "assigning the incremented value of i to i\n",
      "increment in the i 1\n",
      "assigning the incremented value of i to i\n",
      "increment in the i 2\n",
      "assigning the incremented value of i to i\n"
     ]
    }
   ],
   "source": [
    "#Example 2\n",
    "i=0\n",
    "k=int(input(\"enter the number\"))\n",
    "while(i<=k):\n",
    "    print(f\"increment in the i {i}\")\n",
    "    \n",
    "    i=i+1\n",
    "    print(\"assigning the incremented value of i to i\")"
   ]
  },
  {
   "cell_type": "markdown",
   "id": "dee9e332",
   "metadata": {},
   "source": [
    "# comparision operators\n",
    "\n"
   ]
  },
  {
   "cell_type": "code",
   "execution_count": 6,
   "id": "2da8d05f",
   "metadata": {},
   "outputs": [
    {
     "name": "stdout",
     "output_type": "stream",
     "text": [
      "True\n",
      "w is less than v so it is true\n"
     ]
    }
   ],
   "source": [
    "#Example 1\n",
    "w=9\n",
    "v=10\n",
    "print(w<v)\n",
    "print(\"w is less than v so it is true\")"
   ]
  },
  {
   "cell_type": "code",
   "execution_count": 7,
   "id": "8ac45e7f",
   "metadata": {},
   "outputs": [
    {
     "name": "stdout",
     "output_type": "stream",
     "text": [
      "False\n",
      "w is less than v so it is false\n"
     ]
    }
   ],
   "source": [
    "#Example 2\n",
    "w=9\n",
    "v=10\n",
    "print(w>v)\n",
    "print(\"w is less than v so it is false\")"
   ]
  },
  {
   "cell_type": "code",
   "execution_count": 8,
   "id": "c7d40e6c",
   "metadata": {},
   "outputs": [
    {
     "name": "stdout",
     "output_type": "stream",
     "text": [
      "True\n",
      "w is less than v so it is true\n"
     ]
    }
   ],
   "source": [
    "#Example 3\n",
    "w=10\n",
    "v=10\n",
    "print(w==v)\n",
    "print(\"w is less than v so it is true\")"
   ]
  },
  {
   "cell_type": "markdown",
   "id": "e3aa64e9",
   "metadata": {},
   "source": [
    "# identity operator"
   ]
  },
  {
   "cell_type": "code",
   "execution_count": 9,
   "id": "2b7b384e",
   "metadata": {},
   "outputs": [
    {
     "name": "stdout",
     "output_type": "stream",
     "text": [
      "False\n",
      "s is not eqaul to q\n"
     ]
    }
   ],
   "source": [
    "#Example 1\n",
    "s=10\n",
    "q=12\n",
    "print(s is q)\n",
    "print(\"s is not eqaul to q\" )"
   ]
  },
  {
   "cell_type": "code",
   "execution_count": 10,
   "id": "04ea6d61",
   "metadata": {},
   "outputs": [
    {
     "name": "stdout",
     "output_type": "stream",
     "text": [
      "True\n",
      "2 is eqaul to 2\n"
     ]
    }
   ],
   "source": [
    "#Example 2\n",
    "j=2\n",
    "l=2\n",
    "print(j is l)\n",
    "print(f\"{j} is eqaul to {l}\" )"
   ]
  },
  {
   "cell_type": "code",
   "execution_count": 11,
   "id": "9b2c99e5",
   "metadata": {},
   "outputs": [
    {
     "name": "stdout",
     "output_type": "stream",
     "text": [
      "True\n",
      "x is not equal to z\n"
     ]
    }
   ],
   "source": [
    "#example 3\n",
    "x=12\n",
    "z=13\n",
    "print(x is not z)\n",
    "print(\"x is not equal to z\")"
   ]
  },
  {
   "cell_type": "markdown",
   "id": "3b33973a",
   "metadata": {},
   "source": [
    "# Membership operators"
   ]
  },
  {
   "cell_type": "code",
   "execution_count": 15,
   "id": "c43aa904",
   "metadata": {},
   "outputs": [
    {
     "name": "stdout",
     "output_type": "stream",
     "text": [
      "True\n",
      "1 is in the list\n"
     ]
    }
   ],
   "source": [
    "#example 1\n",
    "list1 =(1,2,3,4,5,6,7)\n",
    "print(1 in list1)\n",
    "print(\"1 is in the list\")\n"
   ]
  },
  {
   "cell_type": "code",
   "execution_count": 16,
   "id": "91a2cecf",
   "metadata": {},
   "outputs": [
    {
     "name": "stdout",
     "output_type": "stream",
     "text": [
      "False\n",
      "10 is not in the list\n"
     ]
    }
   ],
   "source": [
    "#Example 2\n",
    "list2=(0,9,8,76,5,4,3)\n",
    "print(10 in list2)\n",
    "print(\"10 is not in the list\")\n"
   ]
  },
  {
   "cell_type": "code",
   "execution_count": 17,
   "id": "746e398e",
   "metadata": {},
   "outputs": [
    {
     "name": "stdout",
     "output_type": "stream",
     "text": [
      "False\n",
      " 10 is in the list\n"
     ]
    }
   ],
   "source": [
    "#Example 3\n",
    "list3=(10,11,12,13,14)\n",
    "print(10 not in list3)\n",
    "print(\" 10 is in the list\")"
   ]
  },
  {
   "cell_type": "markdown",
   "id": "2fd4ddf0",
   "metadata": {},
   "source": [
    "# string"
   ]
  },
  {
   "cell_type": "code",
   "execution_count": 18,
   "id": "afbca998",
   "metadata": {},
   "outputs": [
    {
     "name": "stdout",
     "output_type": "stream",
     "text": [
      "My name is ayub\n",
      "captilize the first letter of string\n",
      " shows the lenght of the string which is 15\n"
     ]
    }
   ],
   "source": [
    "s='my name is ayub'\n",
    "s.\n",
    "print(s.capitalize())\n",
    "print(\"captilize the first letter of string\")\n",
    "print(f\" shows the lenght of the string which is {len(s)}\")"
   ]
  },
  {
   "cell_type": "code",
   "execution_count": 2,
   "id": "c535d69a",
   "metadata": {},
   "outputs": [
    {
     "name": "stdout",
     "output_type": "stream",
     "text": [
      "I AM IN UET PESHAWAR ELECTRICAL ENGINEERING\n",
      "captilize the all alphabets of string\n",
      " shows the lenght of the string which is 43\n"
     ]
    }
   ],
   "source": [
    "q=\"i am in uet peshawar electrical engineering\"\n",
    "print(q.upper())\n",
    "print(\"captilize the all alphabets of string\")\n",
    "print(f\" shows the lenght of the string which is {len(q)}\")"
   ]
  },
  {
   "cell_type": "code",
   "execution_count": 3,
   "id": "9c88b623",
   "metadata": {},
   "outputs": [
    {
     "name": "stdout",
     "output_type": "stream",
     "text": [
      "i got 3.85 cgpa in the 2nd semmester \n",
      "convert  the all alphabets of string to lower case\n",
      " shows the lenght of the string which is 37\n"
     ]
    }
   ],
   "source": [
    "l='''I GOT 3.85 CGPA IN THE 2ND SEMMESTER '''\n",
    "print(l.lower())\n",
    "print(\"convert  the all alphabets of string to lower case\")\n",
    "print(f\" shows the lenght of the string which is {len(l)}\")"
   ]
  },
  {
   "cell_type": "code",
   "execution_count": 20,
   "id": "4d598269",
   "metadata": {},
   "outputs": [
    {
     "name": "stdout",
     "output_type": "stream",
     "text": [
      "a have done my Fsc from orbat college hall vaew campus swaba\n",
      "i have change the i to a\n",
      " shows the lenght of the string which is 60\n"
     ]
    }
   ],
   "source": [
    "h=\"i have done my Fsc from orbit college hill view campus swabi\"\n",
    "print(h.replace('i','a'))\n",
    "print(\"i have change the i to a\")\n",
    "print(f\" shows the lenght of the string which is {len(h)}\")\n"
   ]
  },
  {
   "cell_type": "code",
   "execution_count": 21,
   "id": "9be4a997",
   "metadata": {},
   "outputs": [
    {
     "name": "stdout",
     "output_type": "stream",
     "text": [
      "numbers of i in the string is 3\n",
      "numbers of o in the string is 5\n",
      "numbers of m in the string is 4\n",
      " shows the lenght of the string which is 55\n"
     ]
    }
   ],
   "source": [
    "n='i have done my matric from the sahib zada model school '\n",
    "print(f\"numbers of i in the string is {n.count('i')}\")\n",
    "print(f\"numbers of o in the string is {n.count('o')}\")\n",
    "print(f\"numbers of m in the string is {n.count('m')}\")\n",
    "print(f\" shows the lenght of the string which is {len(n)}\")\n"
   ]
  },
  {
   "cell_type": "code",
   "execution_count": 28,
   "id": "5bf56c7f",
   "metadata": {},
   "outputs": [
    {
     "name": "stdout",
     "output_type": "stream",
     "text": [
      "find the index number of c 28\n",
      "find the index number of 8 8\n",
      "find the index number of i 0\n",
      "find the index number of o 3\n",
      " shows the lenght of the string which is 29\n"
     ]
    }
   ],
   "source": [
    "j='i got 968 marks in the matric'\n",
    "print(f\"find the index number of c {j.find('c')}\")\n",
    "print(f\"find the index number of 8 {j.find('8')}\")\n",
    "print(f\"find the index number of i {j.find('i')}\")\n",
    "print(f\"find the index number of o {j.find('o')}\")\n",
    "print(f\" shows the lenght of the string which is {len(j)}\")"
   ]
  },
  {
   "cell_type": "markdown",
   "id": "5e6194a5",
   "metadata": {},
   "source": [
    "\n",
    "# list"
   ]
  },
  {
   "cell_type": "code",
   "execution_count": 29,
   "id": "dbc568d1",
   "metadata": {},
   "outputs": [
    {
     "name": "stdout",
     "output_type": "stream",
     "text": [
      "added 100 in the last of the list3 [1, 1, 2, 3, 4, 5, 6, 7, 8, 100]\n",
      "count the numbers of ones in the list3 2\n",
      "index number of 8 is 8\n",
      "delete the 8 from the list [1, 1, 2, 3, 4, 5, 6, 7, 100]\n",
      "remove the 3 from thr list3 [1, 1, 2, 4, 5, 6, 7, 100]\n",
      " the sequence of the list is reverse [100, 7, 6, 5, 4, 2, 1, 1]\n",
      " the sequnce of the list is in ascending order [0, 1, 3, 4, 5, 6, 7, 100]\n",
      " shows the lenght of the list which is 8\n"
     ]
    }
   ],
   "source": [
    "#Example 1\n",
    "list3=[1,1,2,3,4,5,6,7,8]\n",
    "list3.append(100)\n",
    "print(f\"added 100 in the last of the list3 {list3}\")\n",
    "print(f\"count the numbers of ones in the list3 {list3.count(1)}\")\n",
    "print(f\"index number of 8 is {list3.index(8)}\")\n",
    "list3.pop(8)\n",
    "print(f\"delete the 8 from the list {list3}\")\n",
    "list3.remove(3)\n",
    "print(f\"remove the 3 from thr list3 {list3}\")\n",
    "list3.reverse()\n",
    "print(f\" the sequence of the list is reverse {list3}\")\n",
    "list4=[3,5,6,7,4,1,100,0]\n",
    "list4.sort()\n",
    "print(f\" the sequnce of the list is in ascending order {list4}\")\n",
    "print(f\" shows the lenght of the list which is {len(list4)}\")"
   ]
  },
  {
   "cell_type": "code",
   "execution_count": null,
   "id": "5a5d551f",
   "metadata": {},
   "outputs": [],
   "source": [
    "#Example 2\n",
    "list5=[4,3,5,3,5,62]\n",
    "list5.append(10)\n",
    "print(f\"added 10 in the last of the list3 {list5}\")\n",
    "print(f\"count the numbers of ones in the list3 {list5.count(1)}\")\n",
    "print(f\"index number of 8 is {list5.index(5)}\")\n",
    "list5.pop(4)\n",
    "print(f\"delete the 8 from the list {list5}\")\n",
    "list5.remove(3)\n",
    "print(f\"remove the 3 from thr list3 {list5}\")\n",
    "list5.reverse()\n",
    "print(f\" the sequence of the list is reverse {list5}\")\n",
    "list6=[4,5,8,9,0,2,45,87]\n",
    "list6.sort()\n",
    "print(f\" the sequnce of the list is in ascending order {list6}\")\n",
    "print(f\" shows the lenght of the list which is {len(list6)}\")\n"
   ]
  },
  {
   "cell_type": "markdown",
   "id": "971c8196",
   "metadata": {},
   "source": [
    "# Tuple"
   ]
  },
  {
   "cell_type": "code",
   "execution_count": 19,
   "id": "231f2d9d",
   "metadata": {},
   "outputs": [
    {
     "name": "stdout",
     "output_type": "stream",
     "text": [
      " shows the number of twos in the tuple which are 3\n",
      " shows the index number of 5 which is 6\n",
      " shows the lenght of the tuple which is 7\n"
     ]
    }
   ],
   "source": [
    "tu=(1,2,2,2,3,4,5)\n",
    "print(f\" shows the number of twos in the tuple which are {tu.count(2)}\")\n",
    "print(f\" shows the index number of 5 which is {tu.index(5)}\")\n",
    "print(f\" shows the lenght of the tuple which is {len(tu)}\")\n",
    "\n"
   ]
  },
  {
   "cell_type": "code",
   "execution_count": 31,
   "id": "27fedc27",
   "metadata": {},
   "outputs": [
    {
     "name": "stdout",
     "output_type": "stream",
     "text": [
      " shows the number of nine in the tuple which are 4\n",
      " shows the index number of 5 which is 4\n",
      " shows the lenght of the tuple which is 9\n"
     ]
    }
   ],
   "source": [
    "tu1=(9,9,9,9,8,7,6,5,4)\n",
    "print(f\" shows the number of nine in the tuple which are {tu1.count(9)}\")\n",
    "print(f\" shows the index number of 5 which is {tu1.index(8)}\")\n",
    "print(f\" shows the lenght of the tuple which is {len(tu1)}\")"
   ]
  },
  {
   "cell_type": "markdown",
   "id": "3f089ee0",
   "metadata": {},
   "source": [
    "# logical operators"
   ]
  },
  {
   "cell_type": "code",
   "execution_count": 36,
   "id": "a0cb4600",
   "metadata": {},
   "outputs": [
    {
     "name": "stdout",
     "output_type": "stream",
     "text": [
      "enter a Digit: 0\n",
      "zero\n"
     ]
    }
   ],
   "source": [
    "name = float(input(\"enter a Digit: \"))\n",
    "if (name==0 or name==0.0):\n",
    "    print(\"zero\")\n",
    "elif(name == 1 or name == 1.0):\n",
    "    print(\"one\")\n",
    "else:\n",
    "    print(\"inva.3lid\")"
   ]
  },
  {
   "cell_type": "markdown",
   "id": "c0996bdf",
   "metadata": {},
   "source": [
    "# grading system "
   ]
  },
  {
   "cell_type": "code",
   "execution_count": 37,
   "id": "4c63a432",
   "metadata": {},
   "outputs": [
    {
     "name": "stdout",
     "output_type": "stream",
     "text": [
      " Welcome to the grading system in which you have to enter the total marks and obtain marks /n;\n",
      "And we will calculate your percentage and also your grade\n",
      "enter your total marks : 1100\n",
      "enter your obtain marks : 918\n",
      "your percentage is 83.45454545454545 and your grade is A\n"
     ]
    }
   ],
   "source": [
    "print(\" Welcome to the grading system in which you have to enter the total marks and obtain marks /n;\")\n",
    "print(\"And we will calculate your percentage and also your grade\")\n",
    "\n",
    "\n",
    "t_marks = int(input(\"enter your total marks : \"))\n",
    "o_marks = int(input(\"enter your obtain marks : \"))\n",
    "per = (o_marks/t_marks)*100\n",
    "if(o_marks > t_marks):\n",
    "    print(\"incoorect marks\")\n",
    "elif( per >= 90 ):\n",
    "    print(f\"your percentage is {per} and your grade is A+\")\n",
    "elif( per >= 80):\n",
    "          print(f\"your percentage is {per} and your grade is A\")\n",
    "elif( per >= 70 ):\n",
    "    print(f\"your percentage is {per} and your grade is B \")\n",
    "elif( per >= 60 ):\n",
    "    print(f\"your percentage is {per} and your grade is C \")\n",
    "elif( per >= 40 ):\n",
    "    print(f\"your percentage is {per} and your grade is D \")\n",
    "elif( per <= 40 ):\n",
    "    print(f\"your percentage is {per} and your grade is F\")\n",
    "       \n",
    "    \n"
   ]
  },
  {
   "cell_type": "code",
   "execution_count": 21,
   "id": "7fbe7d66",
   "metadata": {},
   "outputs": [
    {
     "name": "stdin",
     "output_type": "stream",
     "text": [
      "enter the alphabet  r\n"
     ]
    },
    {
     "name": "stdout",
     "output_type": "stream",
     "text": [
      "The alphabet you enter is the consonant\n"
     ]
    }
   ],
   "source": [
    "w=str(input(\"enter the alphabet \"))\n",
    "w = w.lower()\n",
    "\n",
    "if len(w) >1:\n",
    "    print(\"Enter only one Alphabet\")\n",
    "elif(w=='a'):\n",
    "    print(\"The alphabet you enter is the wovel\")\n",
    "elif(w == 'e'):\n",
    "    print(\"the alphabet you enter is the wovel\")\n",
    "elif(w == 'i'):\n",
    "    print(\"the alphabet you enter is the wovel\")\n",
    "elif(w == 'o'):\n",
    "    print(\"the alphabet you enter is the wovel\")\n",
    "elif(w == 'u'):\n",
    "    print(\"the alphabet you enter is the wovel\")\n",
    "else:\n",
    "    print(\"The alphabet you enter is the consonant\")"
   ]
  },
  {
   "cell_type": "markdown",
   "id": "7dfe4fec",
   "metadata": {},
   "source": [
    "# Dictionary "
   ]
  },
  {
   "cell_type": "code",
   "execution_count": 10,
   "id": "c21b7f17",
   "metadata": {},
   "outputs": [],
   "source": [
    "dic={\"computer\":\"common operating machine purposely used for technological and educational research\",\n",
    "     \"rom\":\"read only memory\",\"ram\":\"random access memory\" , \"cpu\":\"central processing unit\", \"hdd\":\"hard disk drive\",\"ssd\":\"solid state drive\"}\n",
    "dic."
   ]
  },
  {
   "cell_type": "code",
   "execution_count": 4,
   "id": "3650c1c5-3830-473e-9a1d-49149af866ab",
   "metadata": {},
   "outputs": [],
   "source": [
    "dic['age'] = 35   # Update the value associated with the 'age' key\n",
    "dic['gender'] = 'female'   # Add a new key-value pair\n",
    "del dic['computer']   # Remove the key-value pair with the key 'computer'\n"
   ]
  },
  {
   "cell_type": "code",
   "execution_count": 5,
   "id": "56cf72e3-c176-4933-9227-3276b60cbaf4",
   "metadata": {},
   "outputs": [
    {
     "data": {
      "text/plain": [
       "{'rom': 'read only memory',\n",
       " 'ram': 'random access memory',\n",
       " 'cpu': 'central processing unit',\n",
       " 'hdd': 'hard disk drive',\n",
       " 'ssd': 'solid state drive',\n",
       " 'age': 35,\n",
       " 'gender': 'female'}"
      ]
     },
     "execution_count": 5,
     "metadata": {},
     "output_type": "execute_result"
    }
   ],
   "source": [
    "dic"
   ]
  },
  {
   "cell_type": "code",
   "execution_count": 44,
   "id": "131bb97b",
   "metadata": {},
   "outputs": [
    {
     "name": "stdout",
     "output_type": "stream",
     "text": [
      " it will show the item in the dictionary \n"
     ]
    },
    {
     "data": {
      "text/plain": [
       "dict_items([('computer', 'common operating machine purposely used for technological and educational research'), ('rom', 'read only memory'), ('ram', 'random access memory'), ('cpu', 'central processing unit'), ('hdd', 'hard disk drive'), ('ssd', 'solid state drive')])"
      ]
     },
     "execution_count": 44,
     "metadata": {},
     "output_type": "execute_result"
    }
   ],
   "source": [
    "print(f\" it will show the item in the dictionary \")\n",
    "dic.items()"
   ]
  },
  {
   "cell_type": "code",
   "execution_count": 45,
   "id": "0d6f17f5",
   "metadata": {},
   "outputs": [
    {
     "name": "stdout",
     "output_type": "stream",
     "text": [
      "it will shows us the keys used in the dictionary \n"
     ]
    },
    {
     "data": {
      "text/plain": [
       "dict_keys(['computer', 'rom', 'ram', 'cpu', 'hdd', 'ssd'])"
      ]
     },
     "execution_count": 45,
     "metadata": {},
     "output_type": "execute_result"
    }
   ],
   "source": [
    "print(\"it will shows us the keys used in the dictionary \")\n",
    "dic.keys()\n"
   ]
  },
  {
   "cell_type": "code",
   "execution_count": 46,
   "id": "dc71d21a",
   "metadata": {},
   "outputs": [
    {
     "name": "stdout",
     "output_type": "stream",
     "text": [
      "it will shows the valus in the dictionary\n"
     ]
    },
    {
     "data": {
      "text/plain": [
       "dict_values(['common operating machine purposely used for technological and educational research', 'read only memory', 'random access memory', 'central processing unit', 'hard disk drive', 'solid state drive'])"
      ]
     },
     "execution_count": 46,
     "metadata": {},
     "output_type": "execute_result"
    }
   ],
   "source": [
    "print(\"it will shows the valus in the dictionary\")\n",
    "dic.values()\n"
   ]
  },
  {
   "cell_type": "code",
   "execution_count": 47,
   "id": "6c890910",
   "metadata": {},
   "outputs": [
    {
     "name": "stdout",
     "output_type": "stream",
     "text": [
      "it will create the copy of dictionary\n"
     ]
    },
    {
     "data": {
      "text/plain": [
       "{'computer': 'common operating machine purposely used for technological and educational research',\n",
       " 'rom': 'read only memory',\n",
       " 'ram': 'random access memory',\n",
       " 'cpu': 'central processing unit',\n",
       " 'hdd': 'hard disk drive',\n",
       " 'ssd': 'solid state drive'}"
      ]
     },
     "execution_count": 47,
     "metadata": {},
     "output_type": "execute_result"
    }
   ],
   "source": [
    "print (\"it will create the copy of dictionary\")\n",
    "dic.copy()"
   ]
  },
  {
   "cell_type": "code",
   "execution_count": null,
   "id": "c704447d",
   "metadata": {},
   "outputs": [],
   "source": []
  },
  {
   "cell_type": "code",
   "execution_count": 48,
   "id": "f7d01fe1",
   "metadata": {},
   "outputs": [
    {
     "name": "stdout",
     "output_type": "stream",
     "text": [
      "it will print the value\n"
     ]
    },
    {
     "data": {
      "text/plain": [
       "'read only memory'"
      ]
     },
     "execution_count": 48,
     "metadata": {},
     "output_type": "execute_result"
    }
   ],
   "source": [
    "print (\"it will print the value\")\n",
    "dic.get(\"rom\")"
   ]
  },
  {
   "cell_type": "code",
   "execution_count": 49,
   "id": "5682f87b",
   "metadata": {},
   "outputs": [
    {
     "name": "stdout",
     "output_type": "stream",
     "text": [
      "welcome to the abrevational dictionary of computer\n",
      "enter the key ram\n",
      "the abrevation is : random access memory\n"
     ]
    }
   ],
   "source": [
    "print (\"welcome to the abrevational dictionary of computer\")\n",
    "key=str(input(\"enter the key \"))\n",
    "a=key.lower()\n",
    "print(f\"the abrevation is : {dic[a]}\")"
   ]
  },
  {
   "cell_type": "code",
   "execution_count": 51,
   "id": "fc2bad42",
   "metadata": {},
   "outputs": [],
   "source": [
    "# Example no 2\n",
    "dic2={\"QUILTED\":\"MADE OF TOW LAYERS CLOTHES\",\"INVINCIBLE\":\"TOO PWER FULL TO BE DEFEATED\",\n",
    "      \"RAG\":\"A PEICE OFOLD CLOTHES\",\"OUTGRWON\":\"GRWON TOO BIG FOR\",\"GUT\":\"THE STOMACH OR BELLY\",\n",
    "      \"DERAILED\":\"CUASE TO LEAVE ITS TRACK ACCEDENTILLY\",\"RENDER\":\"TO GIVE\"\n",
    "     }\n"
   ]
  },
  {
   "cell_type": "code",
   "execution_count": 10,
   "id": "3083c270",
   "metadata": {},
   "outputs": [
    {
     "name": "stdout",
     "output_type": "stream",
     "text": [
      "it will show {'QUILTED': 'MADE OF TOW LAYERS CLOTHES', 'INVINCIBLE': 'TOO PWER FULL TO BE DEFEATED', 'RAG': 'A PEICE OFOLD CLOTHES', 'OUTGRWON': 'GRWON TOO BIG FOR', 'GUT': 'THE STOMACH OR BELLY', 'DERAILED': 'CUASE TO LEAVE ITS TRACK ACCEDENTILLY', 'RENDER': 'TO GIVE'}\n"
     ]
    }
   ],
   "source": [
    "print(f\"it will show {dic2}\")"
   ]
  },
  {
   "cell_type": "code",
   "execution_count": 11,
   "id": "4380754e",
   "metadata": {},
   "outputs": [
    {
     "name": "stdout",
     "output_type": "stream",
     "text": [
      "enter the keyrag\n",
      " The meaning of the word is A PEICE OFOLD CLOTHES\n"
     ]
    }
   ],
   "source": [
    "key1=str(input(\"enter the key\"))\n",
    "b=key1.upper()\n",
    "print(f\" The meaning of the word is {dic2[b]}\")"
   ]
  },
  {
   "cell_type": "code",
   "execution_count": 16,
   "id": "4d0335f2",
   "metadata": {},
   "outputs": [
    {
     "name": "stdout",
     "output_type": "stream",
     "text": [
      "it will make the dictionary from the list and the 1 value\n"
     ]
    },
    {
     "data": {
      "text/plain": [
       "{'x': 1, 'y': 1, 'z': 1}"
      ]
     },
     "execution_count": 16,
     "metadata": {},
     "output_type": "execute_result"
    }
   ],
   "source": [
    "dic3={}\n",
    "f=['x','y','z']\n",
    "k=1\n",
    "print(\"it will make the dictionary from the list and the 1 value\")\n",
    "dic3 = dic3.fromkeys(f,k)\n",
    "dic3"
   ]
  },
  {
   "cell_type": "markdown",
   "id": "6cffb3fa",
   "metadata": {},
   "source": [
    "# while and for loop"
   ]
  },
  {
   "cell_type": "code",
   "execution_count": 13,
   "id": "0b8fccfe-c518-4284-8199-af51353a4f24",
   "metadata": {},
   "outputs": [
    {
     "name": "stdout",
     "output_type": "stream",
     "text": [
      "0\n",
      "1\n",
      "2\n",
      "3\n",
      "4\n",
      "5\n",
      "6\n",
      "7\n",
      "8\n",
      "9\n"
     ]
    }
   ],
   "source": [
    "for i in range(0,10):\n",
    "    print(i)"
   ]
  },
  {
   "cell_type": "code",
   "execution_count": 52,
   "id": "4b12a7f9",
   "metadata": {},
   "outputs": [
    {
     "name": "stdout",
     "output_type": "stream",
     "text": [
      "The key is QUILTED and the value is MADE OF TOW LAYERS CLOTHES\n",
      "The key is INVINCIBLE and the value is TOO PWER FULL TO BE DEFEATED\n",
      "The key is RAG and the value is A PEICE OFOLD CLOTHES\n",
      "The key is OUTGRWON and the value is GRWON TOO BIG FOR\n",
      "The key is GUT and the value is THE STOMACH OR BELLY\n",
      "The key is DERAILED and the value is CUASE TO LEAVE ITS TRACK ACCEDENTILLY\n",
      "The key is RENDER and the value is TO GIVE\n"
     ]
    }
   ],
   "source": [
    "for i,j in dic2.items():\n",
    "    print(f\"The key is {i} and the value is {j}\")"
   ]
  },
  {
   "cell_type": "code",
   "execution_count": 8,
   "id": "c8309515",
   "metadata": {},
   "outputs": [
    {
     "name": "stdout",
     "output_type": "stream",
     "text": [
      "it will make the dictionary from the list and the 1 value\n"
     ]
    },
    {
     "data": {
      "text/plain": [
       "{'x': 1, 'y': 1, 'z': 1}"
      ]
     },
     "execution_count": 8,
     "metadata": {},
     "output_type": "execute_result"
    }
   ],
   "source": [
    "\n"
   ]
  },
  {
   "cell_type": "code",
   "execution_count": null,
   "id": "071a4e90",
   "metadata": {},
   "outputs": [],
   "source": [
    "i=0\n",
    "while(i<=10):\n",
    "    s=str(input (\"enter the key \"))\n",
    "    s=s.upper()\n",
    "    print(f\" The meaning of the word is {dic2[s]}\")\n",
    "    i=i+1\n",
    "    continue\n",
    "    \n",
    "    \n"
   ]
  },
  {
   "cell_type": "markdown",
   "id": "cdf7bfce",
   "metadata": {},
   "source": [
    "# Convert the keys and values to lower by using loop"
   ]
  },
  {
   "cell_type": "code",
   "execution_count": 14,
   "id": "f4c88612",
   "metadata": {},
   "outputs": [],
   "source": [
    "dic5={\"QUILTED\":\"MADE OF TOW LAYERS CLOTHES\",\"INVINCIBLE\":\"TOO PWER FULL TO BE DEFEATED\",\n",
    "      \"RAG\":\"A PEICE OFOLD CLOTHES\",\"OUTGRWON\":\"GRWON TOO BIG FOR\"}"
   ]
  },
  {
   "cell_type": "code",
   "execution_count": 15,
   "id": "b29a2851",
   "metadata": {},
   "outputs": [],
   "source": [
    "dic5={i.lower():j.lower() for i,j in dic5.items() }"
   ]
  },
  {
   "cell_type": "code",
   "execution_count": 16,
   "id": "bc093ac1",
   "metadata": {},
   "outputs": [
    {
     "data": {
      "text/plain": [
       "{'quilted': 'made of tow layers clothes',\n",
       " 'invincible': 'too pwer full to be defeated',\n",
       " 'rag': 'a peice ofold clothes',\n",
       " 'outgrwon': 'grwon too big for'}"
      ]
     },
     "execution_count": 16,
     "metadata": {},
     "output_type": "execute_result"
    }
   ],
   "source": [
    "dic5"
   ]
  },
  {
   "cell_type": "code",
   "execution_count": 17,
   "id": "9385629b",
   "metadata": {},
   "outputs": [
    {
     "name": "stdout",
     "output_type": "stream",
     "text": [
      "quilted made of tow layers clothes\n",
      "invincible too pwer full to be defeated\n",
      "rag a peice ofold clothes\n",
      "outgrwon grwon too big for\n"
     ]
    }
   ],
   "source": [
    "for k,l in dic5.items():\n",
    "    j=k.lower()\n",
    "    g=l.lower()\n",
    "    print(j,g)\n",
    "    "
   ]
  },
  {
   "cell_type": "code",
   "execution_count": 18,
   "id": "f33053cd",
   "metadata": {},
   "outputs": [
    {
     "name": "stdout",
     "output_type": "stream",
     "text": [
      "the key is quilted and the value is made of tow layers clothes\n",
      "the key is invincible and the value is too pwer full to be defeated\n",
      "the key is rag and the value is a peice ofold clothes\n",
      "the key is outgrwon and the value is grwon too big for\n"
     ]
    }
   ],
   "source": [
    "for i ,j in dic5.items():\n",
    "    print(f\"the key is {i} and the value is {j}\")"
   ]
  },
  {
   "cell_type": "code",
   "execution_count": 19,
   "id": "8786a160",
   "metadata": {},
   "outputs": [
    {
     "name": "stdout",
     "output_type": "stream",
     "text": [
      "it will shows the total number of items in the list 8\n"
     ]
    }
   ],
   "source": [
    "list6=[1,2,3,4,5,7,7,8]\n",
    "s=len(list6)\n",
    "print(f\"it will shows the total number of items in the list {s}\")"
   ]
  },
  {
   "cell_type": "code",
   "execution_count": 20,
   "id": "d3e44e3e",
   "metadata": {},
   "outputs": [
    {
     "name": "stdout",
     "output_type": "stream",
     "text": [
      "it will display the items of list through for loop\n",
      "[11, 12, 13, 14, 15, 17, 17, 18]\n"
     ]
    }
   ],
   "source": [
    "print(\"it will display the items of list through for loop\")\n",
    "a = []\n",
    "for i in list6:\n",
    "    b = i+10\n",
    "    a.append(b)\n",
    "print(a)\n"
   ]
  },
  {
   "cell_type": "code",
   "execution_count": 21,
   "id": "884533d2",
   "metadata": {},
   "outputs": [
    {
     "name": "stdout",
     "output_type": "stream",
     "text": [
      "it will display the items of list through while loop\n",
      "1\n",
      "2\n",
      "3\n",
      "4\n",
      "5\n",
      "7\n",
      "7\n",
      "8\n"
     ]
    }
   ],
   "source": [
    "print(\"it will display the items of list through while loop\")\n",
    "l=0\n",
    "le = len(list6)\n",
    "while(l<le):\n",
    "    print(list6[l])\n",
    "    l=l+1\n",
    "\n",
    "    "
   ]
  },
  {
   "cell_type": "code",
   "execution_count": 22,
   "id": "0b7d8fad",
   "metadata": {},
   "outputs": [
    {
     "name": "stdout",
     "output_type": "stream",
     "text": [
      "[0, 1, 2, 3, 4, 5, 6, 7, 8, 9, 10, 11, 12, 13, 14, 15, 16, 17, 18, 19, 20, 21, 22, 23, 24, 25, 26, 27, 28, 29, 30, 31, 32, 33, 34, 35, 36, 37, 38, 39, 40, 41, 42, 43, 44, 45, 46, 47, 48, 49]\n"
     ]
    }
   ],
   "source": [
    "list7 = []\n",
    "for i in range (50):\n",
    "    list7.append(i)\n",
    "print(list7)\n",
    "    "
   ]
  },
  {
   "cell_type": "code",
   "execution_count": 23,
   "id": "4261dd2b",
   "metadata": {},
   "outputs": [
    {
     "name": "stdout",
     "output_type": "stream",
     "text": [
      "[50, 51, 52, 53, 54, 55, 56, 57, 58, 59, 60, 61, 62, 63, 64, 65, 66, 67, 68, 69, 70, 71, 72, 73, 74, 75, 76, 77, 78, 79, 80, 81, 82, 83, 84, 85, 86, 87, 88, 89, 90, 91, 92, 93, 94, 95, 96, 97, 98, 99, 100]\n"
     ]
    }
   ],
   "source": [
    "list8 = []\n",
    "for j in range (50,101):\n",
    "    list8.append(j)\n",
    "print(list8)"
   ]
  },
  {
   "cell_type": "code",
   "execution_count": 25,
   "id": "a8276515",
   "metadata": {},
   "outputs": [
    {
     "name": "stdout",
     "output_type": "stream",
     "text": [
      "[0, 1, 2, 3, 4, 5, 6, 7, 8, 9, 10, 11, 12, 13, 14, 15, 16, 17, 18, 19, 20, 21, 22, 23, 24, 25, 26, 27, 28, 29, 30, 31, 32, 33, 34, 35, 36, 37, 38, 39, 40, 41, 42, 43, 44, 45, 46, 47, 48, 49, 50, 51, 52, 53, 54, 55, 56, 57, 58, 59, 60, 61, 62, 63, 64, 65, 66, 67, 68, 69, 70, 71, 72, 73, 74, 75, 76, 77, 78, 79, 80, 81, 82, 83, 84, 85, 86, 87, 88, 89, 90, 91, 92, 93, 94, 95, 96, 97, 98, 99, 100, 50, 51, 52, 53, 54, 55, 56, 57, 58, 59, 60, 61, 62, 63, 64, 65, 66, 67, 68, 69, 70, 71, 72, 73, 74, 75, 76, 77, 78, 79, 80, 81, 82, 83, 84, 85, 86, 87, 88, 89, 90, 91, 92, 93, 94, 95, 96, 97, 98, 99, 100] "
     ]
    }
   ],
   "source": [
    "list7.extend(list8)\n",
    "print(list7,end=' ')"
   ]
  },
  {
   "cell_type": "markdown",
   "id": "1c8611f6",
   "metadata": {},
   "source": [
    "# String slicing"
   ]
  },
  {
   "cell_type": "code",
   "execution_count": 23,
   "id": "85720c95",
   "metadata": {},
   "outputs": [
    {
     "name": "stdout",
     "output_type": "stream",
     "text": [
      "full name\n"
     ]
    },
    {
     "data": {
      "text/plain": [
       "13"
      ]
     },
     "execution_count": 23,
     "metadata": {},
     "output_type": "execute_result"
    }
   ],
   "source": [
    "print(\"full name\")\n",
    "name='muhammad ayub'\n",
    "len(name)"
   ]
  },
  {
   "cell_type": "code",
   "execution_count": 28,
   "id": "815dd3f6",
   "metadata": {},
   "outputs": [
    {
     "name": "stdout",
     "output_type": "stream",
     "text": [
      "here we will print the first name\n",
      "m u h a m m a d "
     ]
    }
   ],
   "source": [
    "print(\"here we will print the first name\")\n",
    "for i in range (0,8):\n",
    "    print(name[i],end=' ')"
   ]
  },
  {
   "cell_type": "code",
   "execution_count": 30,
   "id": "44c701a4",
   "metadata": {},
   "outputs": [
    {
     "name": "stdout",
     "output_type": "stream",
     "text": [
      "here we will print the second name\n",
      "ayub"
     ]
    }
   ],
   "source": [
    "print(\"here we will print the second name\")\n",
    "for i in range (9,13):\n",
    "    print(name[i],end='')"
   ]
  },
  {
   "cell_type": "code",
   "execution_count": 24,
   "id": "04181f32",
   "metadata": {},
   "outputs": [],
   "source": [
    "name1='Muhammad Ayub'"
   ]
  },
  {
   "cell_type": "code",
   "execution_count": 25,
   "id": "e644c171",
   "metadata": {},
   "outputs": [
    {
     "data": {
      "text/plain": [
       "['Muhammad', 'Ayub']"
      ]
     },
     "execution_count": 25,
     "metadata": {},
     "output_type": "execute_result"
    }
   ],
   "source": [
    "name_=name1.split()\n",
    "name_"
   ]
  },
  {
   "cell_type": "code",
   "execution_count": 26,
   "id": "4230fd8c",
   "metadata": {},
   "outputs": [
    {
     "data": {
      "text/plain": [
       "'Muhammad'"
      ]
     },
     "execution_count": 26,
     "metadata": {},
     "output_type": "execute_result"
    }
   ],
   "source": [
    "f_name=name_[0]\n",
    "f_name"
   ]
  },
  {
   "cell_type": "code",
   "execution_count": 27,
   "id": "815b0229",
   "metadata": {},
   "outputs": [
    {
     "data": {
      "text/plain": [
       "'Ayub'"
      ]
     },
     "execution_count": 27,
     "metadata": {},
     "output_type": "execute_result"
    }
   ],
   "source": [
    "s_name=name_[1]\n",
    "s_name"
   ]
  },
  {
   "cell_type": "code",
   "execution_count": 35,
   "id": "e99b9c58",
   "metadata": {},
   "outputs": [
    {
     "name": "stdout",
     "output_type": "stream",
     "text": [
      "fisrt name is Muhammad and the second name is Ayub\n"
     ]
    }
   ],
   "source": [
    "print(f\"fisrt name is {f_name} and the second name is {s_name}\")"
   ]
  },
  {
   "cell_type": "markdown",
   "id": "d33d38f6-59e5-4789-85a7-43b3e3ad09b7",
   "metadata": {},
   "source": [
    "## list comprehension"
   ]
  },
  {
   "cell_type": "code",
   "execution_count": 9,
   "id": "67f1f537-9eaf-4085-bdef-9e1b852fd096",
   "metadata": {},
   "outputs": [],
   "source": [
    "x = [x for x in range(10)]"
   ]
  },
  {
   "cell_type": "code",
   "execution_count": 10,
   "id": "bcf8fac4-e678-4f98-b331-0c66511e8cc5",
   "metadata": {},
   "outputs": [
    {
     "data": {
      "text/plain": [
       "[0, 1, 2, 3, 4, 5, 6, 7, 8, 9]"
      ]
     },
     "execution_count": 10,
     "metadata": {},
     "output_type": "execute_result"
    }
   ],
   "source": [
    "x"
   ]
  },
  {
   "cell_type": "code",
   "execution_count": 3,
   "id": "96c25461-b1db-4c42-b2bb-9ea46e51c678",
   "metadata": {},
   "outputs": [],
   "source": [
    "even = [i for i in range(10) if i%2==0]"
   ]
  },
  {
   "cell_type": "code",
   "execution_count": 4,
   "id": "9db1d768-fbef-477e-8091-f9fdd7004959",
   "metadata": {},
   "outputs": [
    {
     "data": {
      "text/plain": [
       "[0, 2, 4, 6, 8]"
      ]
     },
     "execution_count": 4,
     "metadata": {},
     "output_type": "execute_result"
    }
   ],
   "source": [
    "even"
   ]
  },
  {
   "cell_type": "code",
   "execution_count": 7,
   "id": "35e1971c-1a4c-4de6-9109-8871d4681ad3",
   "metadata": {},
   "outputs": [],
   "source": [
    "odd = [i for i in range(10) if i%2!=0]"
   ]
  },
  {
   "cell_type": "code",
   "execution_count": 8,
   "id": "deade03f-f1e6-4f37-b1d4-09884fb2a6ec",
   "metadata": {},
   "outputs": [
    {
     "data": {
      "text/plain": [
       "[1, 3, 5, 7, 9]"
      ]
     },
     "execution_count": 8,
     "metadata": {},
     "output_type": "execute_result"
    }
   ],
   "source": [
    "odd"
   ]
  },
  {
   "cell_type": "code",
   "execution_count": 6,
   "id": "a44ca386-cf5e-4330-b2fe-06072ddd7ff0",
   "metadata": {},
   "outputs": [
    {
     "name": "stdout",
     "output_type": "stream",
     "text": [
      "[0, 1, 4, 9, 16, 25, 36, 49, 64, 81]\n"
     ]
    }
   ],
   "source": [
    "# Create a list of squares of numbers from 0 to 9 using list comprehension\n",
    "squares = [x**2 for x in range(10)]\n",
    "print(squares)  # Output: [0, 1, 4, 9, 16, 25, 36, 49, 64, 81]\n"
   ]
  },
  {
   "cell_type": "markdown",
   "id": "389f4928-727d-454d-af11-071a0048fa17",
   "metadata": {},
   "source": []
  },
  {
   "cell_type": "markdown",
   "id": "236fae86",
   "metadata": {},
   "source": [
    "# import numpy library"
   ]
  },
  {
   "cell_type": "code",
   "execution_count": 11,
   "id": "87f62f5c",
   "metadata": {},
   "outputs": [],
   "source": [
    "import numpy as np\n"
   ]
  },
  {
   "cell_type": "code",
   "execution_count": 15,
   "id": "1c4bfef5",
   "metadata": {
    "scrolled": true
   },
   "outputs": [
    {
     "name": "stdout",
     "output_type": "stream",
     "text": [
      "[0, 1, 2, 3, 4, 5, 6, 7, 8, 9, 10, 11, 12, 13, 14, 15, 16, 17, 18, 19, 20, 21, 22, 23, 24, 25, 26, 27, 28, 29, 30, 31, 32, 33, 34, 35, 36, 37, 38, 39, 40, 41, 42, 43, 44, 45, 46, 47, 48, 49, 50, 51, 52, 53, 54, 55, 56, 57, 58, 59, 60, 61, 62, 63, 64, 65, 66, 67, 68, 69, 70, 71, 72, 73, 74, 75, 76, 77, 78, 79, 80, 81, 82, 83, 84, 85, 86, 87, 88, 89, 90, 91, 92, 93, 94, 95, 96, 97, 98, 99]\n",
      "CPU times: total: 0 ns\n",
      "Wall time: 999 µs\n"
     ]
    }
   ],
   "source": [
    "list8=[]\n",
    "for i in range (100):\n",
    "    list8.append(i)\n",
    "%time print(list8)"
   ]
  },
  {
   "cell_type": "markdown",
   "id": "a2f850b0",
   "metadata": {},
   "source": [
    "# conversion of simple list to py array"
   ]
  },
  {
   "cell_type": "code",
   "execution_count": 38,
   "id": "ce61b783",
   "metadata": {},
   "outputs": [
    {
     "name": "stdout",
     "output_type": "stream",
     "text": [
      "convert a simple list to numpy list\n",
      "[    0     1     2 ... 99997 99998 99999]\n"
     ]
    }
   ],
   "source": [
    "list9=np.array(list8)\n",
    "print(\"convert a simple list to numpy list\")\n",
    "print(list9)"
   ]
  },
  {
   "cell_type": "code",
   "execution_count": 39,
   "id": "d9097229",
   "metadata": {},
   "outputs": [
    {
     "name": "stdout",
     "output_type": "stream",
     "text": [
      "CPU times: total: 0 ns\n",
      "Wall time: 0 ns\n"
     ]
    },
    {
     "data": {
      "text/plain": [
       "array([    0,     1,     2, ..., 99997, 99998, 99999])"
      ]
     },
     "execution_count": 39,
     "metadata": {},
     "output_type": "execute_result"
    }
   ],
   "source": [
    "%time list9"
   ]
  },
  {
   "cell_type": "markdown",
   "id": "96d0122a",
   "metadata": {},
   "source": [
    "# Magic commands"
   ]
  },
  {
   "cell_type": "code",
   "execution_count": 40,
   "id": "48479aca",
   "metadata": {},
   "outputs": [
    {
     "name": "stdout",
     "output_type": "stream",
     "text": [
      "it will shows the variables used in the above code\n",
      "a\t b\t dic\t dic2\t dic5\t f_name\t g\t i\t j\t \n",
      "k\t key\t key1\t l\t le\t list6\t list7\t list8\t list9\t \n",
      "name\t name1\t name_\t np\t s\t s_name\t \n"
     ]
    }
   ],
   "source": [
    "print(\"it will shows the variables used in the above code\")\n",
    "%who\n"
   ]
  },
  {
   "cell_type": "code",
   "execution_count": 41,
   "id": "fdf19cdd",
   "metadata": {},
   "outputs": [
    {
     "name": "stdout",
     "output_type": "stream",
     "text": [
      "CPU times: total: 0 ns\n",
      "Wall time: 0 ns\n",
      "it will shows the running time of the code \n"
     ]
    }
   ],
   "source": [
    "%time list9\n",
    "print(\"it will shows the running time of the code \")"
   ]
  },
  {
   "cell_type": "code",
   "execution_count": 42,
   "id": "8bdf2bb3",
   "metadata": {},
   "outputs": [
    {
     "name": "stdout",
     "output_type": "stream",
     "text": [
      "it will shows the path directory \n"
     ]
    },
    {
     "data": {
      "text/plain": [
       "'C:\\\\Users\\\\m.ayub'"
      ]
     },
     "execution_count": 42,
     "metadata": {},
     "output_type": "execute_result"
    }
   ],
   "source": [
    "print(\"it will shows the path directory \")\n",
    "%pwd"
   ]
  },
  {
   "cell_type": "code",
   "execution_count": 43,
   "id": "e0f29938",
   "metadata": {},
   "outputs": [
    {
     "name": "stdout",
     "output_type": "stream",
     "text": [
      " Volume in drive C has no label.\n",
      " Volume Serial Number is 6CB0-26D9\n",
      "\n",
      " Directory of C:\\Users\\m.ayub\n",
      "\n",
      "08/13/2023  10:28 AM    <DIR>          .\n",
      "08/13/2023  10:28 AM    <DIR>          ..\n",
      "03/29/2023  07:40 AM    <DIR>          .conda\n",
      "03/29/2023  07:35 AM                25 .condarc\n",
      "03/29/2023  07:27 AM    <DIR>          .continuum\n",
      "08/13/2023  04:25 AM    <DIR>          .ipynb_checkpoints\n",
      "03/31/2023  10:28 AM    <DIR>          .ipython\n",
      "08/13/2023  12:26 AM    <DIR>          .jupyter\n",
      "03/27/2023  05:50 AM    <DIR>          .matplotlib\n",
      "05/08/2023  02:51 AM    <DIR>          .ms-ad\n",
      "04/02/2023  08:15 PM    <DIR>          .spyder-py3\n",
      "03/27/2023  03:18 AM    <DIR>          .vscode\n",
      "06/14/2023  08:19 AM    <DIR>          3D Objects\n",
      "03/29/2023  07:42 AM                74 aa.py\n",
      "08/13/2023  01:02 AM            62,922 ayubkhan.csv\n",
      "04/16/2023  04:10 PM    <DIR>          Contacts\n",
      "03/04/2023  03:59 AM    <DIR>          Documents\n",
      "08/13/2023  04:09 AM    <DIR>          Downloads\n",
      "08/09/2023  01:35 AM            83,234 FastFoodNutritionMenu.csv\n",
      "08/13/2023  02:55 AM           122,584 FastFoodNutritionMenu.ipynb\n",
      "04/16/2023  04:10 PM    <DIR>          Favorites\n",
      "06/05/2023  12:01 AM             6,904 for loop.ipynb\n",
      "08/07/2023  12:54 AM             4,692 IndiaCovidVaccination2023.csv\n",
      "08/13/2023  12:03 AM           149,604 IndiaCovidVaccination2023.ipynb\n",
      "08/13/2023  12:01 AM             4,611 IndiaCovidVaccination2023change.csv\n",
      "03/27/2023  05:51 AM    <DIR>          Jedi\n",
      "08/03/2023  09:33 AM             5,187 lab 12.ipynb\n",
      "04/18/2023  02:24 PM             1,874 lab 5 grading.ipynb\n",
      "04/18/2023  02:32 PM             1,057 lab5.ipynb\n",
      "04/16/2023  04:10 PM    <DIR>          Links\n",
      "04/16/2023  04:10 PM    <DIR>          Music\n",
      "08/13/2023  04:07 AM    <DIR>          OneDrive\n",
      "08/13/2023  10:28 AM           129,025 operators.ipynb\n",
      "07/18/2023  12:26 PM            15,049 pepsico_products.csv\n",
      "03/04/2023  03:59 AM    <DIR>          Pictures\n",
      "08/13/2023  02:53 AM            76,718 Pizza Hut.csv\n",
      "04/16/2023  04:10 PM    <DIR>          Saved Games\n",
      "04/16/2023  04:10 PM    <DIR>          Searches\n",
      "08/03/2023  04:35 AM            62,403 Sports Supplements.csv\n",
      "08/13/2023  01:03 AM           500,060 Sports Supplements.ipynb\n",
      "07/29/2023  12:53 AM             1,235 tables.ipynb\n",
      "04/02/2023  08:19 PM             1,056 Untitled.ipynb\n",
      "06/11/2023  08:40 AM                 0 untitled.txt\n",
      "07/29/2023  12:33 AM             1,745 Untitled1.ipynb\n",
      "06/12/2023  10:27 PM             1,052 Untitled10.ipynb\n",
      "06/11/2023  08:42 AM             2,462 Untitled11.ipynb\n",
      "07/04/2023  10:20 AM             1,185 Untitled12.ipynb\n",
      "08/13/2023  04:44 AM            67,020 Untitled13.ipynb\n",
      "07/05/2023  09:28 AM             1,152 Untitled2.ipynb\n",
      "07/05/2023  09:29 AM             1,395 Untitled3.ipynb\n",
      "04/28/2023  10:31 AM             1,333 Untitled4.ipynb\n",
      "05/07/2023  11:48 PM             1,236 Untitled5.ipynb\n",
      "05/07/2023  11:53 PM             1,260 Untitled6.ipynb\n",
      "05/14/2023  11:01 PM             2,500 Untitled7.ipynb\n",
      "06/04/2023  11:21 PM               321 Untitled8.ipynb\n",
      "06/05/2023  12:51 PM                72 Untitled9.ipynb\n",
      "04/16/2023  04:10 PM    <DIR>          Videos\n",
      "03/27/2023  08:36 AM        90,141,464 VSCodeUserSetup-x64-1.76.2.exe\n",
      "              34 File(s)     91,452,511 bytes\n",
      "              24 Dir(s)  73,412,939,776 bytes free\n"
     ]
    }
   ],
   "source": [
    "%ls"
   ]
  },
  {
   "cell_type": "markdown",
   "id": "7584545c",
   "metadata": {},
   "source": [
    "# numpy array matrices"
   ]
  },
  {
   "cell_type": "code",
   "execution_count": 11,
   "id": "bae103a2",
   "metadata": {},
   "outputs": [
    {
     "name": "stdout",
     "output_type": "stream",
     "text": [
      "enter the start12\n",
      "enter the stop56\n",
      "enter the steps2\n"
     ]
    },
    {
     "data": {
      "text/plain": [
       "array([12, 14, 16, 18, 20, 22, 24, 26, 28, 30, 32, 34, 36, 38, 40, 42, 44,\n",
       "       46, 48, 50, 52, 54])"
      ]
     },
     "execution_count": 11,
     "metadata": {},
     "output_type": "execute_result"
    }
   ],
   "source": [
    "start=int(input(\"enter the start\"))\n",
    "stop=int(input(\"enter the stop\"))\n",
    "steps=int(input(\"enter the steps\"))\n",
    "list10=np.arange(start,stop,steps)\n",
    "list10"
   ]
  },
  {
   "cell_type": "code",
   "execution_count": 45,
   "id": "fdc40ae3",
   "metadata": {},
   "outputs": [
    {
     "name": "stdout",
     "output_type": "stream",
     "text": [
      "it will make the matrices\n"
     ]
    },
    {
     "data": {
      "text/plain": [
       "array([[ 1,  2,  3,  4],\n",
       "       [ 5,  6,  7,  8],\n",
       "       [ 9, 10, 11, 12]])"
      ]
     },
     "execution_count": 45,
     "metadata": {},
     "output_type": "execute_result"
    }
   ],
   "source": [
    "print(\"it will make the matrices\")\n",
    "list11=np.array([[1,2,3,4],[5,6,7,8],[9,10,11,12]])\n",
    "list11"
   ]
  },
  {
   "cell_type": "code",
   "execution_count": 46,
   "id": "5f102584",
   "metadata": {},
   "outputs": [
    {
     "name": "stdout",
     "output_type": "stream",
     "text": [
      "it will make the matric of diagnal ones \n"
     ]
    },
    {
     "data": {
      "text/plain": [
       "array([[1, 0, 0],\n",
       "       [0, 1, 0],\n",
       "       [0, 0, 1]])"
      ]
     },
     "execution_count": 46,
     "metadata": {},
     "output_type": "execute_result"
    }
   ],
   "source": [
    "print(\"it will make the matric of diagnal ones \")\n",
    "w=np.eye(3,3, dtype=int)\n",
    "w"
   ]
  },
  {
   "cell_type": "code",
   "execution_count": 47,
   "id": "cb560473",
   "metadata": {},
   "outputs": [
    {
     "name": "stdout",
     "output_type": "stream",
     "text": [
      "it will show the no of columns and rows \n"
     ]
    },
    {
     "data": {
      "text/plain": [
       "(3, 3)"
      ]
     },
     "execution_count": 47,
     "metadata": {},
     "output_type": "execute_result"
    }
   ],
   "source": [
    "print(\"it will show the no of columns and rows \")\n",
    "np.shape(w)"
   ]
  },
  {
   "cell_type": "code",
   "execution_count": 13,
   "id": "119438b2",
   "metadata": {},
   "outputs": [
    {
     "data": {
      "text/plain": [
       "array([1, 2, 3, 4, 5, 6, 7, 8, 9])"
      ]
     },
     "execution_count": 13,
     "metadata": {},
     "output_type": "execute_result"
    }
   ],
   "source": [
    "list12=np.array([1,2,3,4,5,6,7,8,9])\n",
    "list12"
   ]
  },
  {
   "cell_type": "code",
   "execution_count": 49,
   "id": "e0f9776e",
   "metadata": {},
   "outputs": [
    {
     "name": "stdout",
     "output_type": "stream",
     "text": [
      "it will show the shape of the matric\n"
     ]
    },
    {
     "data": {
      "text/plain": [
       "(9,)"
      ]
     },
     "execution_count": 49,
     "metadata": {},
     "output_type": "execute_result"
    }
   ],
   "source": [
    "print(\"it will show the shape of the matric\")\n",
    "np.shape(list12)\n"
   ]
  },
  {
   "cell_type": "code",
   "execution_count": 50,
   "id": "821eea4b",
   "metadata": {},
   "outputs": [
    {
     "data": {
      "text/plain": [
       "array([0., 0., 0., 0., 0., 0., 0., 0., 0., 0.])"
      ]
     },
     "execution_count": 50,
     "metadata": {},
     "output_type": "execute_result"
    }
   ],
   "source": [
    " a= np.zeros((10))\n",
    "a"
   ]
  },
  {
   "cell_type": "code",
   "execution_count": 51,
   "id": "1929a398",
   "metadata": {},
   "outputs": [
    {
     "data": {
      "text/plain": [
       "array([1., 1., 1., 1., 1., 1., 1., 1., 1., 1.])"
      ]
     },
     "execution_count": 51,
     "metadata": {},
     "output_type": "execute_result"
    }
   ],
   "source": [
    "b=np.ones(10)\n",
    "b"
   ]
  },
  {
   "cell_type": "code",
   "execution_count": 52,
   "id": "0905c369",
   "metadata": {},
   "outputs": [
    {
     "data": {
      "text/plain": [
       "1"
      ]
     },
     "execution_count": 52,
     "metadata": {},
     "output_type": "execute_result"
    }
   ],
   "source": [
    "list12.ndim"
   ]
  },
  {
   "cell_type": "code",
   "execution_count": 53,
   "id": "6a4fe3f9",
   "metadata": {},
   "outputs": [
    {
     "name": "stdout",
     "output_type": "stream",
     "text": [
      "it will change the no of rows and columns\n"
     ]
    },
    {
     "data": {
      "text/plain": [
       "array([[1, 2, 3],\n",
       "       [4, 5, 6],\n",
       "       [7, 8, 9]])"
      ]
     },
     "execution_count": 53,
     "metadata": {},
     "output_type": "execute_result"
    }
   ],
   "source": [
    "print(\"it will change the no of rows and columns\")\n",
    "list12 =list12.reshape(3,3)\n",
    "list12"
   ]
  },
  {
   "cell_type": "code",
   "execution_count": 14,
   "id": "e3b59fb7",
   "metadata": {},
   "outputs": [
    {
     "name": "stdout",
     "output_type": "stream",
     "text": [
      "it will show thw dimension of the matrices\n"
     ]
    },
    {
     "data": {
      "text/plain": [
       "1"
      ]
     },
     "execution_count": 14,
     "metadata": {},
     "output_type": "execute_result"
    }
   ],
   "source": [
    "print(\"it will show thw dimension of the matrices\")\n",
    "list12.ndim"
   ]
  },
  {
   "cell_type": "code",
   "execution_count": 55,
   "id": "f6d0c4d5",
   "metadata": {},
   "outputs": [
    {
     "name": "stdout",
     "output_type": "stream",
     "text": [
      "it will shows the diagonal of the matrices\n"
     ]
    },
    {
     "data": {
      "text/plain": [
       "array([1, 5, 9])"
      ]
     },
     "execution_count": 55,
     "metadata": {},
     "output_type": "execute_result"
    }
   ],
   "source": [
    "print(\"it will shows the diagonal elements of the matrices\")\n",
    "list12.diagonal()"
   ]
  },
  {
   "cell_type": "code",
   "execution_count": 56,
   "id": "b787c2bc",
   "metadata": {},
   "outputs": [
    {
     "data": {
      "text/plain": [
       "array([ 0,  1,  2,  3,  4,  5,  6,  7,  8,  9, 10, 11, 12, 13, 14, 15, 16,\n",
       "       17, 18, 19, 20, 21, 22, 23, 24, 25, 26, 27, 28, 29, 30, 31, 32, 33,\n",
       "       34, 35, 36, 37, 38, 39, 40, 41, 42, 43, 44, 45, 46, 47, 48, 49, 50,\n",
       "       51, 52, 53, 54, 55, 56, 57, 58, 59, 60, 61, 62, 63, 64, 65, 66, 67,\n",
       "       68, 69, 70, 71, 72, 73, 74, 75, 76, 77, 78, 79, 80, 81, 82, 83, 84,\n",
       "       85, 86, 87, 88, 89, 90, 91, 92, 93, 94, 95, 96, 97, 98, 99])"
      ]
     },
     "execution_count": 56,
     "metadata": {},
     "output_type": "execute_result"
    }
   ],
   "source": [
    "arr=np.arange(0,100)\n",
    "arr"
   ]
  },
  {
   "cell_type": "code",
   "execution_count": 57,
   "id": "ac97413a",
   "metadata": {},
   "outputs": [
    {
     "name": "stdout",
     "output_type": "stream",
     "text": [
      "it will change the single row into 10x10 matrices\n"
     ]
    },
    {
     "data": {
      "text/plain": [
       "array([[ 0,  1,  2,  3,  4,  5,  6,  7,  8,  9],\n",
       "       [10, 11, 12, 13, 14, 15, 16, 17, 18, 19],\n",
       "       [20, 21, 22, 23, 24, 25, 26, 27, 28, 29],\n",
       "       [30, 31, 32, 33, 34, 35, 36, 37, 38, 39],\n",
       "       [40, 41, 42, 43, 44, 45, 46, 47, 48, 49],\n",
       "       [50, 51, 52, 53, 54, 55, 56, 57, 58, 59],\n",
       "       [60, 61, 62, 63, 64, 65, 66, 67, 68, 69],\n",
       "       [70, 71, 72, 73, 74, 75, 76, 77, 78, 79],\n",
       "       [80, 81, 82, 83, 84, 85, 86, 87, 88, 89],\n",
       "       [90, 91, 92, 93, 94, 95, 96, 97, 98, 99]])"
      ]
     },
     "execution_count": 57,
     "metadata": {},
     "output_type": "execute_result"
    }
   ],
   "source": [
    "print(\"it will change the single row into 10x10 matrices\")\n",
    "ar=arr.reshape(10,10)\n",
    "ar"
   ]
  },
  {
   "cell_type": "code",
   "execution_count": 58,
   "id": "028e93a6",
   "metadata": {},
   "outputs": [
    {
     "name": "stdout",
     "output_type": "stream",
     "text": [
      "it will change the the dimension and also rows and columns\n"
     ]
    },
    {
     "data": {
      "text/plain": [
       "array([[[ 0,  1,  2,  3,  4],\n",
       "        [ 5,  6,  7,  8,  9],\n",
       "        [10, 11, 12, 13, 14],\n",
       "        [15, 16, 17, 18, 19],\n",
       "        [20, 21, 22, 23, 24],\n",
       "        [25, 26, 27, 28, 29],\n",
       "        [30, 31, 32, 33, 34],\n",
       "        [35, 36, 37, 38, 39],\n",
       "        [40, 41, 42, 43, 44],\n",
       "        [45, 46, 47, 48, 49]],\n",
       "\n",
       "       [[50, 51, 52, 53, 54],\n",
       "        [55, 56, 57, 58, 59],\n",
       "        [60, 61, 62, 63, 64],\n",
       "        [65, 66, 67, 68, 69],\n",
       "        [70, 71, 72, 73, 74],\n",
       "        [75, 76, 77, 78, 79],\n",
       "        [80, 81, 82, 83, 84],\n",
       "        [85, 86, 87, 88, 89],\n",
       "        [90, 91, 92, 93, 94],\n",
       "        [95, 96, 97, 98, 99]]])"
      ]
     },
     "execution_count": 58,
     "metadata": {},
     "output_type": "execute_result"
    }
   ],
   "source": [
    "print(\"it will change the the dimension and also rows and columns\")\n",
    "arra=ar.reshape(2,10,-1)\n",
    "arra\n"
   ]
  },
  {
   "cell_type": "code",
   "execution_count": 60,
   "id": "422ec1dd",
   "metadata": {},
   "outputs": [
    {
     "data": {
      "text/plain": [
       "array([ 0,  2,  4,  6,  8, 10, 12, 14, 16, 18])"
      ]
     },
     "execution_count": 60,
     "metadata": {},
     "output_type": "execute_result"
    }
   ],
   "source": [
    "array1=np.arange(0,20,2)\n",
    "array1"
   ]
  },
  {
   "cell_type": "code",
   "execution_count": 61,
   "id": "74c080a5",
   "metadata": {},
   "outputs": [
    {
     "data": {
      "text/plain": [
       "numpy.ndarray"
      ]
     },
     "execution_count": 61,
     "metadata": {},
     "output_type": "execute_result"
    }
   ],
   "source": [
    "type(array1)"
   ]
  },
  {
   "cell_type": "code",
   "execution_count": 62,
   "id": "92edf27a",
   "metadata": {},
   "outputs": [],
   "source": [
    "array1=np.array([array1], dtype='i1')"
   ]
  },
  {
   "cell_type": "code",
   "execution_count": 63,
   "id": "02185d37",
   "metadata": {},
   "outputs": [
    {
     "data": {
      "text/plain": [
       "dtype('int8')"
      ]
     },
     "execution_count": 63,
     "metadata": {},
     "output_type": "execute_result"
    }
   ],
   "source": [
    "array1.dtype"
   ]
  },
  {
   "cell_type": "code",
   "execution_count": 64,
   "id": "d9bce1de",
   "metadata": {},
   "outputs": [],
   "source": [
    "array2=np.array([1,3,4,5,6,7,8,9], dtype='S')"
   ]
  },
  {
   "cell_type": "code",
   "execution_count": 65,
   "id": "5ef73296",
   "metadata": {},
   "outputs": [
    {
     "data": {
      "text/plain": [
       "dtype('S1')"
      ]
     },
     "execution_count": 65,
     "metadata": {},
     "output_type": "execute_result"
    }
   ],
   "source": [
    "array2.dtype"
   ]
  },
  {
   "cell_type": "markdown",
   "id": "9ed8abf9",
   "metadata": {},
   "source": [
    "# Numpy array iterations"
   ]
  },
  {
   "cell_type": "code",
   "execution_count": 66,
   "id": "3acc83c5",
   "metadata": {},
   "outputs": [
    {
     "name": "stdout",
     "output_type": "stream",
     "text": [
      "2.0 3.0 4.0 5.0 6.0 7.0 "
     ]
    }
   ],
   "source": [
    "#1D array\n",
    "x=np.array([2,3,4,5,6,7], dtype='f')\n",
    "for i in x:\n",
    "    print(i ,end =' ')"
   ]
  },
  {
   "cell_type": "code",
   "execution_count": 67,
   "id": "65e3795e",
   "metadata": {},
   "outputs": [
    {
     "name": "stdout",
     "output_type": "stream",
     "text": [
      "1 2 3 4 5 6 7 8 9 8 7 6 5 4 3 1 "
     ]
    }
   ],
   "source": [
    "#2D array\n",
    "k=np.array([[1,2,3,4,5,6,7,8],[9,8,7,6,5,4,3,1]])\n",
    "for l in k:\n",
    "    for h in l:\n",
    "        print(h,end=' ')"
   ]
  },
  {
   "cell_type": "code",
   "execution_count": 68,
   "id": "590938e6",
   "metadata": {},
   "outputs": [
    {
     "name": "stdout",
     "output_type": "stream",
     "text": [
      "1 2 3 4 5 6 7 8 9 10 11 12 "
     ]
    }
   ],
   "source": [
    "#3D array\n",
    "j=np.array([[[1,2,3,4],[5,6,7,8],[9,10,11,12]]])\n",
    "for g in j:\n",
    "    for f in g:\n",
    "        for a in f:\n",
    "            print(a,end=' ')"
   ]
  },
  {
   "cell_type": "code",
   "execution_count": 69,
   "id": "004b53e1",
   "metadata": {},
   "outputs": [
    {
     "name": "stdout",
     "output_type": "stream",
     "text": [
      "[1 2 3 4] [5 6 7 8] [ 9 10 11 12] "
     ]
    }
   ],
   "source": [
    "for an in j:\n",
    "    for d in an:\n",
    "        print(d , end =' ')"
   ]
  },
  {
   "cell_type": "code",
   "execution_count": 70,
   "id": "3f9d73c7",
   "metadata": {},
   "outputs": [
    {
     "name": "stdout",
     "output_type": "stream",
     "text": [
      "1 2 3 4 5 6 7 8 9 10 11 12 "
     ]
    }
   ],
   "source": [
    "# n number of dimension\n",
    "for v in np.nditer(j):\n",
    "    print(v,end=' ')"
   ]
  },
  {
   "cell_type": "code",
   "execution_count": 71,
   "id": "a51610a5",
   "metadata": {},
   "outputs": [
    {
     "name": "stdout",
     "output_type": "stream",
     "text": [
      "b'1'\n",
      "b'2'\n",
      "b'3'\n",
      "b'4'\n",
      "b'5'\n"
     ]
    }
   ],
   "source": [
    "# iteration with chnaging in data type\n",
    "ar=np.array([1,2,3,4,5])\n",
    "for x in np.nditer(ar, flags=['buffered'],op_dtypes=['S']):\n",
    "    print(x)"
   ]
  },
  {
   "cell_type": "code",
   "execution_count": 72,
   "id": "6333ffc6",
   "metadata": {},
   "outputs": [
    {
     "name": "stdout",
     "output_type": "stream",
     "text": [
      "1 3 4 6 "
     ]
    }
   ],
   "source": [
    "# iteration with different steps size\n",
    "arr=np.array([[1,2,3],[4,5,6]])\n",
    "for x in np.nditer(arr[:,::2]):\n",
    "    print(x,end=' ')"
   ]
  },
  {
   "cell_type": "markdown",
   "id": "51bce487",
   "metadata": {},
   "source": [
    "# showing the index number as well as number"
   ]
  },
  {
   "cell_type": "code",
   "execution_count": 73,
   "id": "adb88949",
   "metadata": {},
   "outputs": [
    {
     "name": "stdout",
     "output_type": "stream",
     "text": [
      "(0,) 1 (1,) 3 (2,) 5 (3,) 7 (4,) 9 (5,) 11 (6,) 13 (7,) 15 (8,) 17 (9,) 19 "
     ]
    }
   ],
   "source": [
    "a=np.arange(1,20,2)\n",
    "a\n",
    "for idx,i in np.ndenumerate(a):\n",
    "    print(idx,i,end=' ')"
   ]
  },
  {
   "cell_type": "code",
   "execution_count": 74,
   "id": "1dd3aefa",
   "metadata": {},
   "outputs": [
    {
     "name": "stdout",
     "output_type": "stream",
     "text": [
      "(0, 0) 1 (0, 1) 2 (0, 2) 3 (0, 3) 4 (1, 0) 5 (1, 1) 6 (1, 2) 7 (1, 3) 8 "
     ]
    }
   ],
   "source": [
    "arr2=np.array([[1,2,3,4],[5,6,7,8]])\n",
    "for li,k in np.ndenumerate(arr2):\n",
    "    print(li,k, end=' ')"
   ]
  },
  {
   "cell_type": "markdown",
   "id": "93bae091",
   "metadata": {},
   "source": [
    "# numpy joining array"
   ]
  },
  {
   "cell_type": "code",
   "execution_count": 75,
   "id": "e449e2ac",
   "metadata": {},
   "outputs": [
    {
     "data": {
      "text/plain": [
       "array([1, 2, 3, 4, 5, 6])"
      ]
     },
     "execution_count": 75,
     "metadata": {},
     "output_type": "execute_result"
    }
   ],
   "source": [
    "ar1=np.array([1,2,3])\n",
    "ar2=np.array([4,5,6])\n",
    "arr=np.concatenate((ar1,ar2))\n",
    "arr"
   ]
  },
  {
   "cell_type": "code",
   "execution_count": 76,
   "id": "1b708885",
   "metadata": {},
   "outputs": [
    {
     "data": {
      "text/plain": [
       "array([1, 2, 3, 4, 5, 6])"
      ]
     },
     "execution_count": 76,
     "metadata": {},
     "output_type": "execute_result"
    }
   ],
   "source": [
    "arr=np.hstack((ar1,ar2))\n",
    "arr"
   ]
  },
  {
   "cell_type": "code",
   "execution_count": 77,
   "id": "9504a048",
   "metadata": {},
   "outputs": [
    {
     "data": {
      "text/plain": [
       "array([[1, 2, 3],\n",
       "       [4, 5, 6]])"
      ]
     },
     "execution_count": 77,
     "metadata": {},
     "output_type": "execute_result"
    }
   ],
   "source": [
    "arr=np.vstack((ar1,ar2))\n",
    "arr"
   ]
  },
  {
   "cell_type": "code",
   "execution_count": 79,
   "id": "5b8be3a9",
   "metadata": {},
   "outputs": [
    {
     "data": {
      "text/plain": [
       "array([[[1, 4],\n",
       "        [2, 5],\n",
       "        [3, 6]]])"
      ]
     },
     "execution_count": 79,
     "metadata": {},
     "output_type": "execute_result"
    }
   ],
   "source": [
    "arr=np.dstack((ar1,ar2))\n",
    "arr"
   ]
  },
  {
   "cell_type": "markdown",
   "id": "d8163596",
   "metadata": {},
   "source": [
    "# splitting of array"
   ]
  },
  {
   "cell_type": "code",
   "execution_count": 80,
   "id": "5ec3b987",
   "metadata": {},
   "outputs": [
    {
     "data": {
      "text/plain": [
       "[array([1, 2]), array([3, 4]), array([5])]"
      ]
     },
     "execution_count": 80,
     "metadata": {},
     "output_type": "execute_result"
    }
   ],
   "source": [
    "ar=np.array([1,2,3,4,5])\n",
    "near=np.array_split(ar,3)\n",
    "near"
   ]
  },
  {
   "cell_type": "code",
   "execution_count": 81,
   "id": "358e4057",
   "metadata": {},
   "outputs": [
    {
     "data": {
      "text/plain": [
       "array([3, 4])"
      ]
     },
     "execution_count": 81,
     "metadata": {},
     "output_type": "execute_result"
    }
   ],
   "source": [
    "near[1]"
   ]
  },
  {
   "cell_type": "code",
   "execution_count": 82,
   "id": "2c115fe9",
   "metadata": {},
   "outputs": [
    {
     "data": {
      "text/plain": [
       "array([1, 2])"
      ]
     },
     "execution_count": 82,
     "metadata": {},
     "output_type": "execute_result"
    }
   ],
   "source": [
    "near[0]"
   ]
  },
  {
   "cell_type": "markdown",
   "id": "3f1ce9b6",
   "metadata": {},
   "source": [
    "# searching of arrays element"
   ]
  },
  {
   "cell_type": "code",
   "execution_count": 83,
   "id": "ef0bfee6",
   "metadata": {},
   "outputs": [
    {
     "data": {
      "text/plain": [
       "(array([1], dtype=int64),)"
      ]
     },
     "execution_count": 83,
     "metadata": {},
     "output_type": "execute_result"
    }
   ],
   "source": [
    "ar=np.array([1,2,3,4,5])\n",
    "x=np.where(ar==2)\n",
    "x"
   ]
  },
  {
   "cell_type": "code",
   "execution_count": 84,
   "id": "dac19cdb",
   "metadata": {},
   "outputs": [
    {
     "data": {
      "text/plain": [
       "(array([0, 2, 4], dtype=int64),)"
      ]
     },
     "execution_count": 84,
     "metadata": {},
     "output_type": "execute_result"
    }
   ],
   "source": [
    "x=np.where(~ar%2==0)\n",
    "x"
   ]
  },
  {
   "cell_type": "code",
   "execution_count": 85,
   "id": "a36e9ba8",
   "metadata": {},
   "outputs": [],
   "source": [
    "import numpy as np"
   ]
  },
  {
   "cell_type": "code",
   "execution_count": 86,
   "id": "5bce9a46",
   "metadata": {},
   "outputs": [
    {
     "data": {
      "text/plain": [
       "(array([1, 3], dtype=int64),)"
      ]
     },
     "execution_count": 86,
     "metadata": {},
     "output_type": "execute_result"
    }
   ],
   "source": [
    "x=np.where(ar%2==0)\n",
    "x"
   ]
  },
  {
   "cell_type": "markdown",
   "id": "6abb01ff",
   "metadata": {},
   "source": [
    "# numoy filter array"
   ]
  },
  {
   "cell_type": "code",
   "execution_count": 87,
   "id": "a4d11749",
   "metadata": {},
   "outputs": [
    {
     "data": {
      "text/plain": [
       "array([43, 45, 47])"
      ]
     },
     "execution_count": 87,
     "metadata": {},
     "output_type": "execute_result"
    }
   ],
   "source": [
    "arr=np.array([43,44,45,46,47])\n",
    "x=[True,False,True,False,True]\n",
    "ne=arr[x]\n",
    "ne"
   ]
  },
  {
   "cell_type": "code",
   "execution_count": 88,
   "id": "01a6a207",
   "metadata": {},
   "outputs": [
    {
     "name": "stdout",
     "output_type": "stream",
     "text": [
      "[43 44 45 46 47 48]\n",
      "[True, True, True, True, True, True]\n"
     ]
    }
   ],
   "source": [
    "arr=np.array([43,44,45,46,47,48])\n",
    "filterr_ar=[]\n",
    "for i in arr:\n",
    "    if i > 42:\n",
    "        filterr_ar . append(True)\n",
    "    else:\n",
    "        filterr_ar.append(False)\n",
    "newar =arr[filterr_ar]\n",
    "print(newar)\n",
    "print(filterr_ar)"
   ]
  },
  {
   "cell_type": "code",
   "execution_count": 89,
   "id": "3a966214",
   "metadata": {},
   "outputs": [
    {
     "name": "stdout",
     "output_type": "stream",
     "text": [
      "[False, True, False, True, False, True, False, True, False]\n",
      "[2 4 6 8]\n"
     ]
    }
   ],
   "source": [
    "a1=np.array([1,2,3,4,5,6,7,8,9])\n",
    "filter_ar=[]\n",
    "for i in a1:\n",
    "    if i%2==0:\n",
    "        filter_ar.append(True)\n",
    "    else:\n",
    "        filter_ar.append(False)\n",
    "newarr= a1[filter_ar]\n",
    "print(filter_ar)\n",
    "print(newarr)"
   ]
  },
  {
   "cell_type": "code",
   "execution_count": 90,
   "id": "3fe65534",
   "metadata": {},
   "outputs": [],
   "source": [
    "from numpy import random"
   ]
  },
  {
   "cell_type": "code",
   "execution_count": 91,
   "id": "604af517",
   "metadata": {},
   "outputs": [],
   "source": [
    "x=random.choice([\"ayub\" ,\"ramzan\",\"rohail\"],p=[.5,.2,.3],size=(10))"
   ]
  },
  {
   "cell_type": "code",
   "execution_count": 92,
   "id": "5b816606",
   "metadata": {},
   "outputs": [
    {
     "data": {
      "text/plain": [
       "array(['ramzan', 'ayub', 'ramzan', 'ayub', 'rohail', 'ayub', 'ayub',\n",
       "       'ayub', 'rohail', 'ramzan'], dtype='<U6')"
      ]
     },
     "execution_count": 92,
     "metadata": {},
     "output_type": "execute_result"
    }
   ],
   "source": [
    "x"
   ]
  },
  {
   "cell_type": "code",
   "execution_count": 93,
   "id": "45d850a4",
   "metadata": {},
   "outputs": [
    {
     "data": {
      "text/plain": [
       "array([0.   , 0.375, 0.75 , 1.125, 1.5  , 1.875, 2.25 , 2.625, 3.   ])"
      ]
     },
     "execution_count": 93,
     "metadata": {},
     "output_type": "execute_result"
    }
   ],
   "source": [
    "np.linspace(0,3,9)"
   ]
  },
  {
   "cell_type": "code",
   "execution_count": 94,
   "id": "e0f35102",
   "metadata": {},
   "outputs": [
    {
     "ename": "TypeError",
     "evalue": "ufunc 'sin' not supported for the input types, and the inputs could not be safely coerced to any supported types according to the casting rule ''safe''",
     "output_type": "error",
     "traceback": [
      "\u001b[1;31m---------------------------------------------------------------------------\u001b[0m",
      "\u001b[1;31mTypeError\u001b[0m                                 Traceback (most recent call last)",
      "Input \u001b[1;32mIn [94]\u001b[0m, in \u001b[0;36m<cell line: 3>\u001b[1;34m()\u001b[0m\n\u001b[0;32m      1\u001b[0m \u001b[38;5;28;01mfrom\u001b[39;00m \u001b[38;5;21;01mnumpy\u001b[39;00m \u001b[38;5;28;01mimport\u001b[39;00m pi\n\u001b[0;32m      2\u001b[0m np\u001b[38;5;241m.\u001b[39mlinspace(\u001b[38;5;241m0\u001b[39m, \u001b[38;5;241m2\u001b[39m \u001b[38;5;241m*\u001b[39m pi ,\u001b[38;5;241m100\u001b[39m)\n\u001b[1;32m----> 3\u001b[0m y\u001b[38;5;241m=\u001b[39m\u001b[43mnp\u001b[49m\u001b[38;5;241;43m.\u001b[39;49m\u001b[43msin\u001b[49m\u001b[43m(\u001b[49m\u001b[43mx\u001b[49m\u001b[43m)\u001b[49m\n\u001b[0;32m      4\u001b[0m \u001b[38;5;28mprint\u001b[39m(x)\n\u001b[0;32m      5\u001b[0m \u001b[38;5;28mprint\u001b[39m(y)\n",
      "\u001b[1;31mTypeError\u001b[0m: ufunc 'sin' not supported for the input types, and the inputs could not be safely coerced to any supported types according to the casting rule ''safe''"
     ]
    }
   ],
   "source": [
    "from numpy import pi\n",
    "np.linspace(0, 2 * pi ,100)\n",
    "y=np.sin(x)\n",
    "print(x)\n",
    "print(y)"
   ]
  },
  {
   "cell_type": "code",
   "execution_count": 33,
   "id": "b6355a4c",
   "metadata": {},
   "outputs": [
    {
     "data": {
      "text/plain": [
       "array([0, 1, 2, 3, 4, 5])"
      ]
     },
     "execution_count": 33,
     "metadata": {},
     "output_type": "execute_result"
    }
   ],
   "source": [
    "a=np.arange(6)\n",
    "a"
   ]
  },
  {
   "cell_type": "code",
   "execution_count": 95,
   "id": "e1feef5d",
   "metadata": {},
   "outputs": [
    {
     "data": {
      "text/plain": [
       "array([ 23,  12,  24,  34,  45,  56,  67,  78,  89,  11, 123])"
      ]
     },
     "execution_count": 95,
     "metadata": {},
     "output_type": "execute_result"
    }
   ],
   "source": [
    "a=np.array([23,12,24,34,45,56,67,78,89,11,123])\n",
    "a"
   ]
  },
  {
   "cell_type": "code",
   "execution_count": 96,
   "id": "70294f28",
   "metadata": {},
   "outputs": [
    {
     "name": "stdout",
     "output_type": "stream",
     "text": [
      "it will give us the array having the indexes of sorted array\n"
     ]
    },
    {
     "data": {
      "text/plain": [
       "array([ 9,  1,  0,  2,  3,  4,  5,  6,  7,  8, 10], dtype=int64)"
      ]
     },
     "execution_count": 96,
     "metadata": {},
     "output_type": "execute_result"
    }
   ],
   "source": [
    "print(\"it will give us the array having the indexes of sorted array\")\n",
    "np.argsort(a)"
   ]
  },
  {
   "cell_type": "code",
   "execution_count": 97,
   "id": "11874aa8",
   "metadata": {},
   "outputs": [
    {
     "name": "stdout",
     "output_type": "stream",
     "text": [
      "it will show us the index no of smallest number\n"
     ]
    },
    {
     "data": {
      "text/plain": [
       "9"
      ]
     },
     "execution_count": 97,
     "metadata": {},
     "output_type": "execute_result"
    }
   ],
   "source": [
    "print(\"it will show us the index no of smallest number\")\n",
    "np.argmin(a)"
   ]
  },
  {
   "cell_type": "code",
   "execution_count": 98,
   "id": "01ef3a1b",
   "metadata": {},
   "outputs": [
    {
     "name": "stdout",
     "output_type": "stream",
     "text": [
      "it will show us the index no of highest number\n"
     ]
    },
    {
     "data": {
      "text/plain": [
       "10"
      ]
     },
     "execution_count": 98,
     "metadata": {},
     "output_type": "execute_result"
    }
   ],
   "source": [
    "print(\"it will show us the index no of highest number\")\n",
    "np.argmax(a)"
   ]
  },
  {
   "cell_type": "code",
   "execution_count": 99,
   "id": "f559a874",
   "metadata": {},
   "outputs": [
    {
     "name": "stdout",
     "output_type": "stream",
     "text": [
      "it will show us the mean value of the given data\n"
     ]
    },
    {
     "data": {
      "text/plain": [
       "51.09090909090909"
      ]
     },
     "execution_count": 99,
     "metadata": {},
     "output_type": "execute_result"
    }
   ],
   "source": [
    "print(\"it will show us the mean value of the given data\")\n",
    "np.mean(a)"
   ]
  },
  {
   "cell_type": "code",
   "execution_count": 100,
   "id": "296058be",
   "metadata": {},
   "outputs": [
    {
     "name": "stdout",
     "output_type": "stream",
     "text": [
      "it will show us the median means middle value of the given data\n"
     ]
    },
    {
     "data": {
      "text/plain": [
       "45.0"
      ]
     },
     "execution_count": 100,
     "metadata": {},
     "output_type": "execute_result"
    }
   ],
   "source": [
    "print(\"it will show us the median means middle value of the given data\")\n",
    "np.median(a)"
   ]
  },
  {
   "cell_type": "code",
   "execution_count": 101,
   "id": "c0083fd2",
   "metadata": {},
   "outputs": [],
   "source": [
    "from scipy import stats"
   ]
  },
  {
   "cell_type": "code",
   "execution_count": 102,
   "id": "d48e4159",
   "metadata": {},
   "outputs": [
    {
     "name": "stdout",
     "output_type": "stream",
     "text": [
      "shows us the most repeated value in the array and also shows us the no of repeatetion \n"
     ]
    },
    {
     "data": {
      "text/plain": [
       "ModeResult(mode=array([11]), count=array([1]))"
      ]
     },
     "execution_count": 102,
     "metadata": {},
     "output_type": "execute_result"
    }
   ],
   "source": [
    "print(\"shows us the most repeated value in the array and also shows us the no of repeatetion \")\n",
    "stats.mode(a)"
   ]
  },
  {
   "cell_type": "code",
   "execution_count": 103,
   "id": "b9e90df7",
   "metadata": {},
   "outputs": [
    {
     "name": "stdout",
     "output_type": "stream",
     "text": [
      "it will show the variance\n"
     ]
    },
    {
     "data": {
      "text/plain": [
       "1145.1735537190084"
      ]
     },
     "execution_count": 103,
     "metadata": {},
     "output_type": "execute_result"
    }
   ],
   "source": [
    "print(\"it will show the variance\")\n",
    "np.var(a)"
   ]
  },
  {
   "cell_type": "code",
   "execution_count": 104,
   "id": "52ba1ab9",
   "metadata": {},
   "outputs": [
    {
     "name": "stdout",
     "output_type": "stream",
     "text": [
      "it will show the standard daviation\n"
     ]
    },
    {
     "data": {
      "text/plain": [
       "33.84041302524259"
      ]
     },
     "execution_count": 104,
     "metadata": {},
     "output_type": "execute_result"
    }
   ],
   "source": [
    "print(\"it will show the standard daviation\")\n",
    "np.std(a)"
   ]
  },
  {
   "cell_type": "code",
   "execution_count": 105,
   "id": "5cd32d93",
   "metadata": {},
   "outputs": [
    {
     "name": "stdout",
     "output_type": "stream",
     "text": [
      "it will show us that the 75% people having 44 or less than 44 age and the 25% are above the 44\n"
     ]
    },
    {
     "data": {
      "text/plain": [
       "44.25"
      ]
     },
     "execution_count": 105,
     "metadata": {},
     "output_type": "execute_result"
    }
   ],
   "source": [
    "print('it will show us that the 75% people having 44 or less than 44 age and the 25% are above the 44')\n",
    "ages=[5,31,43,48,50,41,7,11]\n",
    "x=np.percentile(ages,75)\n",
    "x"
   ]
  },
  {
   "cell_type": "code",
   "execution_count": 59,
   "id": "2584ec40",
   "metadata": {},
   "outputs": [
    {
     "data": {
      "text/plain": [
       "array([4.67649353, 3.61508243, 4.20413623, 0.98835389, 4.58315138,\n",
       "       3.82877231, 2.26193726, 1.47771071, 3.87687926, 2.90065277,\n",
       "       2.65382322, 1.34667171, 4.09800861, 2.10962784, 0.22309255,\n",
       "       0.21824122, 2.56879378, 3.22142665, 0.44701331, 0.98942377,\n",
       "       0.95107699, 1.48802405, 2.52577299, 2.60299388, 1.33882405,\n",
       "       3.07186614, 3.43582009, 1.96792151, 4.9563281 , 4.42893649,\n",
       "       4.64615256, 0.67677831, 1.5223733 , 1.22089136, 1.1121829 ,\n",
       "       2.67821239, 0.14831709, 1.21581618, 0.28088024, 2.78812809,\n",
       "       3.65892013, 0.11734344, 0.39790356, 0.07541452, 1.54098351,\n",
       "       4.27814819, 2.07977592, 1.53590477, 2.22187918, 2.27845953,\n",
       "       4.0464511 , 3.13517197, 4.12384627, 1.09482533, 2.64976003,\n",
       "       4.2539681 , 4.741677  , 1.68287043, 0.27617419, 0.48382249,\n",
       "       2.72043117, 0.31986374, 3.75531587, 1.64733686, 0.94665064,\n",
       "       4.66706063, 3.86586059, 2.8517044 , 2.91583599, 2.22659649,\n",
       "       0.12450449, 1.75608088, 1.21913811, 0.53399761, 0.41859248,\n",
       "       1.09281295, 1.69620529, 2.90629942, 4.51246964, 2.6148703 ,\n",
       "       2.52293602, 0.12449023, 3.94880096, 3.04092441, 3.17696271,\n",
       "       1.19316554, 2.41500993, 1.75807527, 1.31142654, 4.68199167,\n",
       "       3.89999508, 1.12530239, 3.45510452, 2.64425454, 1.20046612,\n",
       "       4.68911557, 3.9761625 , 3.73129901, 1.5573799 , 1.87717149,\n",
       "       0.53890853, 3.46879027, 1.20721052, 3.36053307, 0.70943053,\n",
       "       3.10834317, 4.62981057, 1.92989127, 4.26920781, 4.27498538,\n",
       "       0.50690844, 2.92997166, 3.4795275 , 0.55823758, 4.8070879 ,\n",
       "       1.12847388, 3.36196177, 1.3551907 , 3.80169743, 4.51131657,\n",
       "       3.7689235 , 2.28631826, 3.38287661, 0.60581514, 4.35941118,\n",
       "       1.65173613, 1.79491361, 2.43541088, 3.99550632, 2.39846158,\n",
       "       4.56943739, 0.38058975, 3.35623268, 2.92848188, 4.88417855,\n",
       "       4.67944546, 1.51509247, 0.5696467 , 4.44015999, 4.44208177,\n",
       "       3.53431174, 0.71810153, 3.89011319, 0.28863146, 4.04546405,\n",
       "       3.63461949, 3.76990667, 1.57141877, 3.82755938, 4.44261538,\n",
       "       4.76345704, 3.4842525 , 4.43596935, 3.04739158, 3.65003538,\n",
       "       2.22126636, 0.0774699 , 3.34632371, 4.1382805 , 1.94026371,\n",
       "       3.02907909, 1.38446264, 2.6025255 , 0.26110588, 3.91428277,\n",
       "       1.87471728, 1.87595949, 2.34647396, 4.30387707, 1.54821728,\n",
       "       2.69373667, 4.27714012, 4.57372914, 2.95089258, 1.00993901,\n",
       "       0.65329246, 0.17311478, 0.18813845, 1.54134706, 4.49794529,\n",
       "       1.19208528, 1.78997867, 1.96914263, 0.13386479, 4.04373219,\n",
       "       0.93139458, 4.52549271, 1.29138498, 0.98987538, 1.86885697,\n",
       "       0.05522293, 4.90839434, 3.54079819, 2.06425169, 2.22544843,\n",
       "       0.90568949, 3.27697764, 4.19063708, 0.85768799, 2.88436468,\n",
       "       4.73088367, 4.16577042, 0.34482221, 2.77960385, 3.628141  ,\n",
       "       0.02202012, 1.06112351, 1.42707045, 1.58772509, 1.17582929,\n",
       "       3.99451404, 2.87921446, 0.93348538, 3.28498323, 1.02720616,\n",
       "       0.14879671, 3.21638633, 3.09859007, 0.43702366, 0.16046902,\n",
       "       2.49251452, 4.93669071, 0.84386079, 1.40183426, 0.20498652,\n",
       "       1.14778628, 2.88046066, 4.33650033, 4.24688545, 3.14275356,\n",
       "       4.715581  , 1.36707252, 4.13467576, 0.66454496, 4.3874962 ,\n",
       "       2.77821046, 2.65941116, 3.04450708, 1.00959029, 3.94802263,\n",
       "       3.26990061, 0.26337985, 3.90033268, 4.19431451, 1.19685852,\n",
       "       4.43341183, 2.97139896, 3.78836217, 0.52601897, 4.58146798])"
      ]
     },
     "execution_count": 59,
     "metadata": {},
     "output_type": "execute_result"
    }
   ],
   "source": [
    "x=np.random.uniform(0.0,5.0,250)\n",
    "x"
   ]
  },
  {
   "cell_type": "code",
   "execution_count": 106,
   "id": "3c6b43f1",
   "metadata": {},
   "outputs": [],
   "source": [
    "import matplotlib.pyplot as plt"
   ]
  },
  {
   "cell_type": "code",
   "execution_count": 107,
   "id": "63b22f6b",
   "metadata": {},
   "outputs": [
    {
     "data": {
      "image/png": "[encoded data removed]",
      "text/plain": [
       "<Figure size 432x288 with 1 Axes>"
      ]
     },
     "metadata": {
      "needs_background": "light"
     },
     "output_type": "display_data"
    }
   ],
   "source": [
    "plt.hist(x,bins=10, rwidth= 0.1)\n",
    "plt.show()"
   ]
  },
  {
   "cell_type": "code",
   "execution_count": 108,
   "id": "577f8813",
   "metadata": {},
   "outputs": [
    {
     "data": {
      "text/plain": [
       "<function matplotlib.pyplot.show(close=None, block=None)>"
      ]
     },
     "execution_count": 108,
     "metadata": {},
     "output_type": "execute_result"
    },
    {
     "data": {
      "image/png": "[encoded data removed]",
      "text/plain": [
       "<Figure size 432x288 with 1 Axes>"
      ]
     },
     "metadata": {
      "needs_background": "light"
     },
     "output_type": "display_data"
    }
   ],
   "source": [
    "x=np.random.uniform(0,5,100000)\n",
    "plt.hist(x)\n",
    "plt.show"
   ]
  },
  {
   "cell_type": "code",
   "execution_count": 109,
   "id": "605f60f9",
   "metadata": {},
   "outputs": [
    {
     "data": {
      "image/png": "[encoded data removed]",
      "text/plain": [
       "<Figure size 432x288 with 1 Axes>"
      ]
     },
     "metadata": {
      "needs_background": "light"
     },
     "output_type": "display_data"
    }
   ],
   "source": [
    "x=np.random.normal(0,5,100000)\n",
    "plt.hist(x)\n",
    "plt.show()\n"
   ]
  },
  {
   "cell_type": "code",
   "execution_count": 110,
   "id": "c3a3a211",
   "metadata": {},
   "outputs": [
    {
     "data": {
      "text/plain": [
       "<function matplotlib.pyplot.show(close=None, block=None)>"
      ]
     },
     "execution_count": 110,
     "metadata": {},
     "output_type": "execute_result"
    },
    {
     "data": {
      "image/png": "[encoded data removed]",
      "text/plain": [
       "<Figure size 432x288 with 1 Axes>"
      ]
     },
     "metadata": {
      "needs_background": "light"
     },
     "output_type": "display_data"
    }
   ],
   "source": [
    "plt.hist(x,100)\n",
    "plt.show"
   ]
  },
  {
   "cell_type": "code",
   "execution_count": 111,
   "id": "f65110b9",
   "metadata": {},
   "outputs": [
    {
     "data": {
      "image/png": "[encoded data removed]",
      "text/plain": [
       "<Figure size 432x288 with 1 Axes>"
      ]
     },
     "metadata": {
      "needs_background": "light"
     },
     "output_type": "display_data"
    }
   ],
   "source": [
    "x=np.random.uniform(5,10,1000)\n",
    "y=np.random.uniform(1,5,1000)\n",
    "plt.scatter(x,y)\n",
    "plt.show()"
   ]
  },
  {
   "cell_type": "code",
   "execution_count": 112,
   "id": "fb8590c2",
   "metadata": {},
   "outputs": [
    {
     "data": {
      "image/png": "[encoded data removed]",
      "text/plain": [
       "<Figure size 432x288 with 1 Axes>"
      ]
     },
     "metadata": {
      "needs_background": "light"
     },
     "output_type": "display_data"
    }
   ],
   "source": [
    "x=[1,2,3,4,5,6,7]\n",
    "y=[8,9,10,11,12,13,14]\n",
    "plt.scatter(x,y)\n",
    "plt.show()"
   ]
  },
  {
   "cell_type": "code",
   "execution_count": null,
   "id": "565db0fe",
   "metadata": {},
   "outputs": [
    {
     "name": "stdout",
     "output_type": "stream",
     "text": [
      ">#\n",
      ">ayub\n",
      "ayub\n"
     ]
    }
   ],
   "source": [
    "while True:\n",
    "    line = input('>')\n",
    "    if line[0] =='#':\n",
    "        continue\n",
    "    if line == 'done':\n",
    "        break\n",
    "    print(line)\n",
    "print('done')"
   ]
  },
  {
   "cell_type": "code",
   "execution_count": null,
   "id": "6b247d7a",
   "metadata": {},
   "outputs": [],
   "source": []
  }
 ],
 "metadata": {
  "kernelspec": {
   "display_name": "Python 3 (ipykernel)",
   "language": "python",
   "name": "python3"
  },
  "language_info": {
   "codemirror_mode": {
    "name": "ipython",
    "version": 3
   },
   "file_extension": ".py",
   "mimetype": "text/x-python",
   "name": "python",
   "nbconvert_exporter": "python",
   "pygments_lexer": "ipython3",
   "version": "3.9.18"
  }
 },
 "nbformat": 4,
 "nbformat_minor": 5
}
